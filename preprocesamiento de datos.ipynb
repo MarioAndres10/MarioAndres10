{
  "cells": [
    {
      "cell_type": "markdown",
      "metadata": {
        "id": "tLjah9tEb0qC"
      },
      "source": [
        "# **1. PROBLEMA**"
      ]
    },
    {
      "cell_type": "markdown",
      "metadata": {
        "id": "GB-5FLF2bQo4"
      },
      "source": [
        "## **1.1. Contexto**"
      ]
    },
    {
      "cell_type": "markdown",
      "metadata": {
        "id": "Tvekk5iWb-5s"
      },
      "source": [
        "**Dataset:**\n",
        "\n",
        "El conjunto de datos *'clientes.xlsx'* fue descargado de una base de datos de un banco que contiene datos caracteristicos de los clientes.\n",
        "\n",
        "**Objetivo:** Realizar el preprocesamiento de datos de la base de datos \"clientes.xlsx\".\n",
        "\n",
        ">\n",
        "\n",
        "**Desarrollo:**\n",
        "\n",
        "➡️ Identifique problemas de registro, datos nulos y atípicos.\n",
        "\n",
        "➡️ Realice una rutina de limpieza, imputación y transformación de los datos.\n",
        "\n",
        "Nombre: Mario Ayavire"
      ]
    },
    {
      "cell_type": "markdown",
      "metadata": {
        "id": "A-AtUK5qcVKe"
      },
      "source": [
        "## **1.2. Librerías**"
      ]
    },
    {
      "cell_type": "code",
      "execution_count": 44,
      "metadata": {
        "id": "7sssR1zgPeFC"
      },
      "outputs": [],
      "source": [
        "# OPERACIONES CON ARREGLOS (MATRICES Y VECTORES)\n",
        "import numpy as np\n",
        "\n",
        "# ESTRUCTURA Y MANIPULACIÓN DE DATOS\n",
        "import pandas as pd\n",
        "\n",
        "# VISUALIZACIÓN\n",
        "import matplotlib.pyplot as plt\n",
        "import matplotlib.ticker as ticker\n",
        "\n",
        "import seaborn as sb\n",
        "from seaborn import kdeplot\n",
        "from seaborn import lmplot\n",
        "from seaborn import boxplot\n",
        "# Configura el estilo de seaborn para desactivar la notación científica\n",
        "sb.set(style=\"ticks\", rc={'axes.formatter.limits': (-2, 10)})\n",
        "\n",
        "# ADVERTENCIAS\n",
        "import warnings\n",
        "warnings.filterwarnings('ignore')"
      ]
    },
    {
      "cell_type": "markdown",
      "metadata": {
        "id": "hrhWM5OmbELu"
      },
      "source": [
        "## **1.3. Carga de datos**"
      ]
    },
    {
      "cell_type": "code",
      "execution_count": 45,
      "metadata": {
        "id": "9p1p92XoTgQe"
      },
      "outputs": [],
      "source": [
        "df = pd.read_excel(\"clientes.xlsx\")"
      ]
    },
    {
      "cell_type": "markdown",
      "metadata": {
        "id": "QMzIGbpEcfHl"
      },
      "source": [
        "# **2. CONJUNTO DE DATOS**"
      ]
    },
    {
      "cell_type": "markdown",
      "metadata": {
        "id": "2YLa9E2caxlb"
      },
      "source": [
        "## **2.1. Exploración inicial**"
      ]
    },
    {
      "cell_type": "code",
      "execution_count": null,
      "metadata": {
        "colab": {
          "base_uri": "https://localhost:8080/"
        },
        "id": "QtPevzxoUuDk",
        "outputId": "4bba16e5-c579-45d1-bbab-83fdec7d7d03"
      },
      "outputs": [
        {
          "data": {
            "text/plain": [
              "(200584, 11)"
            ]
          },
          "execution_count": 6,
          "metadata": {},
          "output_type": "execute_result"
        }
      ],
      "source": [
        "#Cantidad de filas x cantidad de columnas\n",
        "df.shape"
      ]
    },
    {
      "cell_type": "code",
      "execution_count": null,
      "metadata": {
        "colab": {
          "base_uri": "https://localhost:8080/"
        },
        "id": "WbgMajCfUx7K",
        "outputId": "6096369b-8280-49e6-8379-1fec5cdb6106"
      },
      "outputs": [
        {
          "data": {
            "text/plain": [
              "['Id_cliente',\n",
              " 'Seguro',\n",
              " 'Genero',\n",
              " 'Ciudad',\n",
              " 'Region',\n",
              " 'Estado_Civil',\n",
              " 'Educacion',\n",
              " 'N°_Hijos',\n",
              " 'Cupo_TC',\n",
              " 'Gasto_Mensual',\n",
              " 'Columna 11']"
            ]
          },
          "execution_count": 7,
          "metadata": {},
          "output_type": "execute_result"
        }
      ],
      "source": [
        "list(df.columns.values)"
      ]
    },
    {
      "cell_type": "code",
      "execution_count": null,
      "metadata": {
        "colab": {
          "base_uri": "https://localhost:8080/",
          "height": 206
        },
        "id": "QAqiFKwJU23i",
        "outputId": "5d099379-40eb-45c0-ea9e-121b5153ffb3"
      },
      "outputs": [
        {
          "data": {
            "text/html": [
              "<div>\n",
              "<style scoped>\n",
              "    .dataframe tbody tr th:only-of-type {\n",
              "        vertical-align: middle;\n",
              "    }\n",
              "\n",
              "    .dataframe tbody tr th {\n",
              "        vertical-align: top;\n",
              "    }\n",
              "\n",
              "    .dataframe thead th {\n",
              "        text-align: right;\n",
              "    }\n",
              "</style>\n",
              "<table border=\"1\" class=\"dataframe\">\n",
              "  <thead>\n",
              "    <tr style=\"text-align: right;\">\n",
              "      <th></th>\n",
              "      <th>Id_cliente</th>\n",
              "      <th>Seguro</th>\n",
              "      <th>Genero</th>\n",
              "      <th>Ciudad</th>\n",
              "      <th>Region</th>\n",
              "      <th>Estado_Civil</th>\n",
              "      <th>Educacion</th>\n",
              "      <th>N°_Hijos</th>\n",
              "      <th>Cupo_TC</th>\n",
              "      <th>Gasto_Mensual</th>\n",
              "      <th>Columna 11</th>\n",
              "    </tr>\n",
              "  </thead>\n",
              "  <tbody>\n",
              "    <tr>\n",
              "      <th>0</th>\n",
              "      <td>23210</td>\n",
              "      <td>Accidente</td>\n",
              "      <td>Femenino</td>\n",
              "      <td>0</td>\n",
              "      <td>Los Lagos</td>\n",
              "      <td>$</td>\n",
              "      <td>Técnico</td>\n",
              "      <td>0.0</td>\n",
              "      <td>10000000.0</td>\n",
              "      <td>592360.0</td>\n",
              "      <td>NaN</td>\n",
              "    </tr>\n",
              "    <tr>\n",
              "      <th>1</th>\n",
              "      <td>23211</td>\n",
              "      <td>NaN</td>\n",
              "      <td>NaN</td>\n",
              "      <td>NaN</td>\n",
              "      <td>NaN</td>\n",
              "      <td>NaN</td>\n",
              "      <td>NaN</td>\n",
              "      <td>NaN</td>\n",
              "      <td>NaN</td>\n",
              "      <td>NaN</td>\n",
              "      <td>NaN</td>\n",
              "    </tr>\n",
              "    <tr>\n",
              "      <th>2</th>\n",
              "      <td>23212</td>\n",
              "      <td>Accidente</td>\n",
              "      <td>$</td>\n",
              "      <td>Ovalle</td>\n",
              "      <td>NaN</td>\n",
              "      <td>Soltero(a)</td>\n",
              "      <td>NaN</td>\n",
              "      <td>3.0</td>\n",
              "      <td>1000000.0</td>\n",
              "      <td>-578670.0</td>\n",
              "      <td>NaN</td>\n",
              "    </tr>\n",
              "    <tr>\n",
              "      <th>3</th>\n",
              "      <td>23213</td>\n",
              "      <td>Accidente</td>\n",
              "      <td>Masculino</td>\n",
              "      <td>NaN</td>\n",
              "      <td>NaN</td>\n",
              "      <td>Casado(a)</td>\n",
              "      <td>Técnico</td>\n",
              "      <td>2.0</td>\n",
              "      <td>1000000.0</td>\n",
              "      <td>714031.0</td>\n",
              "      <td>NaN</td>\n",
              "    </tr>\n",
              "    <tr>\n",
              "      <th>4</th>\n",
              "      <td>23214</td>\n",
              "      <td>Accidente</td>\n",
              "      <td>Masculino</td>\n",
              "      <td>Concepción</td>\n",
              "      <td>NaN</td>\n",
              "      <td>Soltero(a)</td>\n",
              "      <td>Técnico</td>\n",
              "      <td>0.0</td>\n",
              "      <td>NaN</td>\n",
              "      <td>771194.0</td>\n",
              "      <td>NaN</td>\n",
              "    </tr>\n",
              "  </tbody>\n",
              "</table>\n",
              "</div>"
            ],
            "text/plain": [
              "   Id_cliente     Seguro     Genero      Ciudad     Region Estado_Civil  \\\n",
              "0       23210  Accidente   Femenino           0  Los Lagos            $   \n",
              "1       23211        NaN        NaN         NaN        NaN          NaN   \n",
              "2       23212  Accidente          $      Ovalle        NaN   Soltero(a)   \n",
              "3       23213  Accidente  Masculino         NaN        NaN    Casado(a)   \n",
              "4       23214  Accidente  Masculino  Concepción        NaN   Soltero(a)   \n",
              "\n",
              "  Educacion  N°_Hijos     Cupo_TC  Gasto_Mensual  Columna 11  \n",
              "0   Técnico       0.0  10000000.0       592360.0         NaN  \n",
              "1       NaN       NaN         NaN            NaN         NaN  \n",
              "2       NaN       3.0   1000000.0      -578670.0         NaN  \n",
              "3   Técnico       2.0   1000000.0       714031.0         NaN  \n",
              "4   Técnico       0.0         NaN       771194.0         NaN  "
            ]
          },
          "execution_count": 8,
          "metadata": {},
          "output_type": "execute_result"
        }
      ],
      "source": [
        "#Primeros registros\n",
        "df.head()"
      ]
    },
    {
      "cell_type": "code",
      "execution_count": null,
      "metadata": {
        "colab": {
          "base_uri": "https://localhost:8080/",
          "height": 206
        },
        "id": "V_0lSuOxWF2F",
        "outputId": "c3aca373-11e5-457d-82db-2da34d5ac3e3"
      },
      "outputs": [
        {
          "data": {
            "text/html": [
              "<div>\n",
              "<style scoped>\n",
              "    .dataframe tbody tr th:only-of-type {\n",
              "        vertical-align: middle;\n",
              "    }\n",
              "\n",
              "    .dataframe tbody tr th {\n",
              "        vertical-align: top;\n",
              "    }\n",
              "\n",
              "    .dataframe thead th {\n",
              "        text-align: right;\n",
              "    }\n",
              "</style>\n",
              "<table border=\"1\" class=\"dataframe\">\n",
              "  <thead>\n",
              "    <tr style=\"text-align: right;\">\n",
              "      <th></th>\n",
              "      <th>Id_cliente</th>\n",
              "      <th>Seguro</th>\n",
              "      <th>Genero</th>\n",
              "      <th>Ciudad</th>\n",
              "      <th>Region</th>\n",
              "      <th>Estado_Civil</th>\n",
              "      <th>Educacion</th>\n",
              "      <th>N°_Hijos</th>\n",
              "      <th>Cupo_TC</th>\n",
              "      <th>Gasto_Mensual</th>\n",
              "      <th>Columna 11</th>\n",
              "    </tr>\n",
              "  </thead>\n",
              "  <tbody>\n",
              "    <tr>\n",
              "      <th>200579</th>\n",
              "      <td>223789</td>\n",
              "      <td>NaN</td>\n",
              "      <td>0</td>\n",
              "      <td>Valparaíso</td>\n",
              "      <td>Valparaíso</td>\n",
              "      <td>Soltero(a)</td>\n",
              "      <td>Magister</td>\n",
              "      <td>2.0</td>\n",
              "      <td>3500000.0</td>\n",
              "      <td>NaN</td>\n",
              "      <td>NaN</td>\n",
              "    </tr>\n",
              "    <tr>\n",
              "      <th>200580</th>\n",
              "      <td>223790</td>\n",
              "      <td>Salud</td>\n",
              "      <td>Femenino</td>\n",
              "      <td>Valparaíso</td>\n",
              "      <td>Valparaíso</td>\n",
              "      <td>0</td>\n",
              "      <td>Universitario</td>\n",
              "      <td>1.0</td>\n",
              "      <td>-2.0</td>\n",
              "      <td>2276840.0</td>\n",
              "      <td>NaN</td>\n",
              "    </tr>\n",
              "    <tr>\n",
              "      <th>200581</th>\n",
              "      <td>223791</td>\n",
              "      <td>Salud</td>\n",
              "      <td>Femenino</td>\n",
              "      <td>Valparaíso</td>\n",
              "      <td>Valparaíso</td>\n",
              "      <td>Casado(a)</td>\n",
              "      <td>Doctorado</td>\n",
              "      <td>0.0</td>\n",
              "      <td>NaN</td>\n",
              "      <td>7156530.0</td>\n",
              "      <td>NaN</td>\n",
              "    </tr>\n",
              "    <tr>\n",
              "      <th>200582</th>\n",
              "      <td>223792</td>\n",
              "      <td>NaN</td>\n",
              "      <td>NaN</td>\n",
              "      <td>NaN</td>\n",
              "      <td>NaN</td>\n",
              "      <td>NaN</td>\n",
              "      <td>NaN</td>\n",
              "      <td>NaN</td>\n",
              "      <td>NaN</td>\n",
              "      <td>NaN</td>\n",
              "      <td>NaN</td>\n",
              "    </tr>\n",
              "    <tr>\n",
              "      <th>200583</th>\n",
              "      <td>223793</td>\n",
              "      <td>Automotriz</td>\n",
              "      <td>Masculino</td>\n",
              "      <td>Valparaíso</td>\n",
              "      <td>$</td>\n",
              "      <td>$</td>\n",
              "      <td>Media</td>\n",
              "      <td>0.0</td>\n",
              "      <td>500000.0</td>\n",
              "      <td>938508.0</td>\n",
              "      <td>NaN</td>\n",
              "    </tr>\n",
              "  </tbody>\n",
              "</table>\n",
              "</div>"
            ],
            "text/plain": [
              "        Id_cliente      Seguro     Genero      Ciudad      Region  \\\n",
              "200579      223789         NaN          0  Valparaíso  Valparaíso   \n",
              "200580      223790       Salud   Femenino  Valparaíso  Valparaíso   \n",
              "200581      223791       Salud   Femenino  Valparaíso  Valparaíso   \n",
              "200582      223792         NaN        NaN         NaN         NaN   \n",
              "200583      223793  Automotriz  Masculino  Valparaíso           $   \n",
              "\n",
              "       Estado_Civil      Educacion  N°_Hijos    Cupo_TC  Gasto_Mensual  \\\n",
              "200579   Soltero(a)       Magister       2.0  3500000.0            NaN   \n",
              "200580            0  Universitario       1.0       -2.0      2276840.0   \n",
              "200581    Casado(a)      Doctorado       0.0        NaN      7156530.0   \n",
              "200582          NaN            NaN       NaN        NaN            NaN   \n",
              "200583            $          Media       0.0   500000.0       938508.0   \n",
              "\n",
              "        Columna 11  \n",
              "200579         NaN  \n",
              "200580         NaN  \n",
              "200581         NaN  \n",
              "200582         NaN  \n",
              "200583         NaN  "
            ]
          },
          "execution_count": 9,
          "metadata": {},
          "output_type": "execute_result"
        }
      ],
      "source": [
        "#Ultimos registros\n",
        "df.tail()"
      ]
    },
    {
      "cell_type": "code",
      "execution_count": null,
      "metadata": {
        "colab": {
          "base_uri": "https://localhost:8080/",
          "height": 223
        },
        "id": "lew_Q_gjWIFM",
        "outputId": "64b08094-20b1-4cbc-ae37-3dce9ccabff4"
      },
      "outputs": [
        {
          "data": {
            "text/html": [
              "<div>\n",
              "<style scoped>\n",
              "    .dataframe tbody tr th:only-of-type {\n",
              "        vertical-align: middle;\n",
              "    }\n",
              "\n",
              "    .dataframe tbody tr th {\n",
              "        vertical-align: top;\n",
              "    }\n",
              "\n",
              "    .dataframe thead th {\n",
              "        text-align: right;\n",
              "    }\n",
              "</style>\n",
              "<table border=\"1\" class=\"dataframe\">\n",
              "  <thead>\n",
              "    <tr style=\"text-align: right;\">\n",
              "      <th></th>\n",
              "      <th>Id_cliente</th>\n",
              "      <th>Seguro</th>\n",
              "      <th>Genero</th>\n",
              "      <th>Ciudad</th>\n",
              "      <th>Region</th>\n",
              "      <th>Estado_Civil</th>\n",
              "      <th>Educacion</th>\n",
              "      <th>N°_Hijos</th>\n",
              "      <th>Cupo_TC</th>\n",
              "      <th>Gasto_Mensual</th>\n",
              "      <th>Columna 11</th>\n",
              "    </tr>\n",
              "  </thead>\n",
              "  <tbody>\n",
              "    <tr>\n",
              "      <th>119175</th>\n",
              "      <td>142385</td>\n",
              "      <td>Automotriz</td>\n",
              "      <td>Masculino</td>\n",
              "      <td>Los Ángeles</td>\n",
              "      <td>Biobío</td>\n",
              "      <td>Soltero(a)</td>\n",
              "      <td>Universitario</td>\n",
              "      <td>3.0</td>\n",
              "      <td>1500000.0</td>\n",
              "      <td>1310110.0</td>\n",
              "      <td>NaN</td>\n",
              "    </tr>\n",
              "    <tr>\n",
              "      <th>148028</th>\n",
              "      <td>171238</td>\n",
              "      <td>Automotriz</td>\n",
              "      <td>Masculino</td>\n",
              "      <td>Santiago</td>\n",
              "      <td>Metropolitana</td>\n",
              "      <td>Casado(a)</td>\n",
              "      <td>Magister</td>\n",
              "      <td>3.0</td>\n",
              "      <td>3500000.0</td>\n",
              "      <td>5328780.0</td>\n",
              "      <td>NaN</td>\n",
              "    </tr>\n",
              "    <tr>\n",
              "      <th>194980</th>\n",
              "      <td>218190</td>\n",
              "      <td>Automotriz</td>\n",
              "      <td>Masculino</td>\n",
              "      <td>Valparaíso</td>\n",
              "      <td>Valparaíso</td>\n",
              "      <td>Soltero(a)</td>\n",
              "      <td>Técnico</td>\n",
              "      <td>3.0</td>\n",
              "      <td>1000000.0</td>\n",
              "      <td>824182.0</td>\n",
              "      <td>NaN</td>\n",
              "    </tr>\n",
              "    <tr>\n",
              "      <th>112727</th>\n",
              "      <td>135937</td>\n",
              "      <td>Vida</td>\n",
              "      <td>Masculino</td>\n",
              "      <td>Santiago</td>\n",
              "      <td>Metropolitana</td>\n",
              "      <td>Soltero(a)</td>\n",
              "      <td>Doctorado</td>\n",
              "      <td>0.0</td>\n",
              "      <td>5000000.0</td>\n",
              "      <td>7184000.0</td>\n",
              "      <td>NaN</td>\n",
              "    </tr>\n",
              "    <tr>\n",
              "      <th>104424</th>\n",
              "      <td>127634</td>\n",
              "      <td>Desgravamen</td>\n",
              "      <td>Femenino</td>\n",
              "      <td>Copiapó</td>\n",
              "      <td>Atacama</td>\n",
              "      <td>Viudo(a)</td>\n",
              "      <td>Técnico</td>\n",
              "      <td>3.0</td>\n",
              "      <td>1000000.0</td>\n",
              "      <td>981027.0</td>\n",
              "      <td>NaN</td>\n",
              "    </tr>\n",
              "  </tbody>\n",
              "</table>\n",
              "</div>"
            ],
            "text/plain": [
              "        Id_cliente       Seguro     Genero       Ciudad         Region  \\\n",
              "119175      142385   Automotriz  Masculino  Los Ángeles         Biobío   \n",
              "148028      171238   Automotriz  Masculino     Santiago  Metropolitana   \n",
              "194980      218190   Automotriz  Masculino   Valparaíso     Valparaíso   \n",
              "112727      135937         Vida  Masculino     Santiago  Metropolitana   \n",
              "104424      127634  Desgravamen   Femenino      Copiapó        Atacama   \n",
              "\n",
              "       Estado_Civil      Educacion  N°_Hijos    Cupo_TC  Gasto_Mensual  \\\n",
              "119175   Soltero(a)  Universitario       3.0  1500000.0      1310110.0   \n",
              "148028    Casado(a)       Magister       3.0  3500000.0      5328780.0   \n",
              "194980   Soltero(a)        Técnico       3.0  1000000.0       824182.0   \n",
              "112727   Soltero(a)      Doctorado       0.0  5000000.0      7184000.0   \n",
              "104424     Viudo(a)        Técnico       3.0  1000000.0       981027.0   \n",
              "\n",
              "        Columna 11  \n",
              "119175         NaN  \n",
              "148028         NaN  \n",
              "194980         NaN  \n",
              "112727         NaN  \n",
              "104424         NaN  "
            ]
          },
          "execution_count": 10,
          "metadata": {},
          "output_type": "execute_result"
        }
      ],
      "source": [
        "#Registro aleatorio\n",
        "df.sample(5)"
      ]
    },
    {
      "cell_type": "code",
      "execution_count": null,
      "metadata": {
        "colab": {
          "base_uri": "https://localhost:8080/"
        },
        "id": "TP8yTHgJWXqM",
        "outputId": "e2a52df9-dce0-4dd7-8d76-b132a10fc90e"
      },
      "outputs": [
        {
          "name": "stdout",
          "output_type": "stream",
          "text": [
            "<class 'pandas.core.frame.DataFrame'>\n",
            "RangeIndex: 200584 entries, 0 to 200583\n",
            "Data columns (total 11 columns):\n",
            " #   Column         Non-Null Count   Dtype  \n",
            "---  ------         --------------   -----  \n",
            " 0   Id_cliente     200584 non-null  int64  \n",
            " 1   Seguro         200345 non-null  object \n",
            " 2   Genero         200184 non-null  object \n",
            " 3   Ciudad         200320 non-null  object \n",
            " 4   Region         196856 non-null  object \n",
            " 5   Estado_Civil   200136 non-null  object \n",
            " 6   Educacion      200056 non-null  object \n",
            " 7   N°_Hijos       200272 non-null  float64\n",
            " 8   Cupo_TC        200168 non-null  float64\n",
            " 9   Gasto_Mensual  199392 non-null  float64\n",
            " 10  Columna 11     0 non-null       float64\n",
            "dtypes: float64(4), int64(1), object(6)\n",
            "memory usage: 16.8+ MB\n"
          ]
        }
      ],
      "source": [
        "#Tipo de datos\n",
        "df.info()"
      ]
    },
    {
      "cell_type": "markdown",
      "metadata": {
        "id": "YnFuvffYXOYL"
      },
      "source": [
        "como primer analisis podemos observar que tenemos algunos errores:\n",
        "1.- la columna 11 no posee datos.\n",
        "2.- el tipo de dato en N°_Hijos, cupo_TC y Gasto_Mensual es float y lo que corresponde es que sea INT.\n",
        "3.- Podemos tener un primer avistamiento de datos faltantes en cada columna.\n"
      ]
    },
    {
      "cell_type": "markdown",
      "metadata": {
        "id": "UTESZDTrcn0J"
      },
      "source": [
        "## **2.2. Resumen estadístico**"
      ]
    },
    {
      "cell_type": "code",
      "execution_count": null,
      "metadata": {
        "colab": {
          "base_uri": "https://localhost:8080/",
          "height": 300
        },
        "id": "0WOhY-LeYEpn",
        "outputId": "7d215068-8307-4c0d-aa85-cfd5ae2364f9"
      },
      "outputs": [
        {
          "data": {
            "text/html": [
              "<div>\n",
              "<style scoped>\n",
              "    .dataframe tbody tr th:only-of-type {\n",
              "        vertical-align: middle;\n",
              "    }\n",
              "\n",
              "    .dataframe tbody tr th {\n",
              "        vertical-align: top;\n",
              "    }\n",
              "\n",
              "    .dataframe thead th {\n",
              "        text-align: right;\n",
              "    }\n",
              "</style>\n",
              "<table border=\"1\" class=\"dataframe\">\n",
              "  <thead>\n",
              "    <tr style=\"text-align: right;\">\n",
              "      <th></th>\n",
              "      <th>Id_cliente</th>\n",
              "      <th>N°_Hijos</th>\n",
              "      <th>Cupo_TC</th>\n",
              "      <th>Gasto_Mensual</th>\n",
              "      <th>Columna 11</th>\n",
              "    </tr>\n",
              "  </thead>\n",
              "  <tbody>\n",
              "    <tr>\n",
              "      <th>count</th>\n",
              "      <td>200584.000000</td>\n",
              "      <td>200272.000000</td>\n",
              "      <td>2.001680e+05</td>\n",
              "      <td>1.993920e+05</td>\n",
              "      <td>0.0</td>\n",
              "    </tr>\n",
              "    <tr>\n",
              "      <th>mean</th>\n",
              "      <td>123501.500000</td>\n",
              "      <td>1.877487</td>\n",
              "      <td>1.454858e+06</td>\n",
              "      <td>1.785089e+06</td>\n",
              "      <td>NaN</td>\n",
              "    </tr>\n",
              "    <tr>\n",
              "      <th>std</th>\n",
              "      <td>57903.757535</td>\n",
              "      <td>1.558858</td>\n",
              "      <td>1.275826e+06</td>\n",
              "      <td>9.006821e+06</td>\n",
              "      <td>NaN</td>\n",
              "    </tr>\n",
              "    <tr>\n",
              "      <th>min</th>\n",
              "      <td>23210.000000</td>\n",
              "      <td>0.000000</td>\n",
              "      <td>-2.000000e+06</td>\n",
              "      <td>-9.350280e+05</td>\n",
              "      <td>NaN</td>\n",
              "    </tr>\n",
              "    <tr>\n",
              "      <th>25%</th>\n",
              "      <td>73355.750000</td>\n",
              "      <td>1.000000</td>\n",
              "      <td>1.000000e+06</td>\n",
              "      <td>7.134198e+05</td>\n",
              "      <td>NaN</td>\n",
              "    </tr>\n",
              "    <tr>\n",
              "      <th>50%</th>\n",
              "      <td>123501.500000</td>\n",
              "      <td>2.000000</td>\n",
              "      <td>1.000000e+06</td>\n",
              "      <td>9.350490e+05</td>\n",
              "      <td>NaN</td>\n",
              "    </tr>\n",
              "    <tr>\n",
              "      <th>75%</th>\n",
              "      <td>173647.250000</td>\n",
              "      <td>3.000000</td>\n",
              "      <td>2.000000e+06</td>\n",
              "      <td>1.939305e+06</td>\n",
              "      <td>NaN</td>\n",
              "    </tr>\n",
              "    <tr>\n",
              "      <th>max</th>\n",
              "      <td>223793.000000</td>\n",
              "      <td>5.000000</td>\n",
              "      <td>1.000000e+08</td>\n",
              "      <td>9.460400e+08</td>\n",
              "      <td>NaN</td>\n",
              "    </tr>\n",
              "  </tbody>\n",
              "</table>\n",
              "</div>"
            ],
            "text/plain": [
              "          Id_cliente       N°_Hijos       Cupo_TC  Gasto_Mensual  Columna 11\n",
              "count  200584.000000  200272.000000  2.001680e+05   1.993920e+05         0.0\n",
              "mean   123501.500000       1.877487  1.454858e+06   1.785089e+06         NaN\n",
              "std     57903.757535       1.558858  1.275826e+06   9.006821e+06         NaN\n",
              "min     23210.000000       0.000000 -2.000000e+06  -9.350280e+05         NaN\n",
              "25%     73355.750000       1.000000  1.000000e+06   7.134198e+05         NaN\n",
              "50%    123501.500000       2.000000  1.000000e+06   9.350490e+05         NaN\n",
              "75%    173647.250000       3.000000  2.000000e+06   1.939305e+06         NaN\n",
              "max    223793.000000       5.000000  1.000000e+08   9.460400e+08         NaN"
            ]
          },
          "execution_count": 14,
          "metadata": {},
          "output_type": "execute_result"
        }
      ],
      "source": [
        "#Resumen estadistico\n",
        "df.describe()"
      ]
    },
    {
      "cell_type": "code",
      "execution_count": null,
      "metadata": {
        "colab": {
          "base_uri": "https://localhost:8080/",
          "height": 429
        },
        "id": "nbJ2fhL3cuw7",
        "outputId": "85aaf99a-1be9-423c-db03-7446101e987d"
      },
      "outputs": [
        {
          "data": {
            "text/plain": [
              "Id_cliente               23210\n",
              "Seguro              Automotriz\n",
              "Genero                Femenino\n",
              "Ciudad                Santiago\n",
              "Region           Metropolitana\n",
              "Estado_Civil        Soltero(a)\n",
              "Educacion              Técnico\n",
              "N°_Hijos                   0.0\n",
              "Cupo_TC              1000000.0\n",
              "Gasto_Mensual        2499900.0\n",
              "Columna 11                 NaN\n",
              "Name: 0, dtype: object"
            ]
          },
          "execution_count": 15,
          "metadata": {},
          "output_type": "execute_result"
        }
      ],
      "source": [
        "#Moda de todas las variables\n",
        "df.mode().iloc[0]"
      ]
    },
    {
      "cell_type": "markdown",
      "metadata": {
        "id": "GbyePW95cxF_"
      },
      "source": [
        "## **2.3. Frecuencia**"
      ]
    },
    {
      "cell_type": "code",
      "execution_count": null,
      "metadata": {
        "colab": {
          "base_uri": "https://localhost:8080/",
          "height": 397
        },
        "id": "wTHg00J0e535",
        "outputId": "27e29e13-cd4d-45dd-bb50-8f42e86500b5"
      },
      "outputs": [
        {
          "data": {
            "text/plain": [
              "Seguro\n",
              "Automotriz     62998\n",
              "Salud          41824\n",
              "Desgravamen    33818\n",
              "Vida           23168\n",
              "Viaje          13208\n",
              "Accidente      12778\n",
              "Robo           12440\n",
              "0                103\n",
              "00                 8\n",
              "Name: count, dtype: int64"
            ]
          },
          "execution_count": 18,
          "metadata": {},
          "output_type": "execute_result"
        }
      ],
      "source": [
        "#Cantidad de seguros\n",
        "df['Seguro'].value_counts()"
      ]
    },
    {
      "cell_type": "markdown",
      "metadata": {
        "id": "CoKJioXqfLJ4"
      },
      "source": []
    },
    {
      "cell_type": "code",
      "execution_count": null,
      "metadata": {
        "colab": {
          "base_uri": "https://localhost:8080/",
          "height": 241
        },
        "id": "_6ja3LzJfNsp",
        "outputId": "b5ec6959-8924-4391-e721-21b65106bcd0"
      },
      "outputs": [
        {
          "data": {
            "text/plain": [
              "Genero\n",
              "Femenino     101248\n",
              "Masculino     98824\n",
              "0                88\n",
              "$                24\n",
              "Name: count, dtype: int64"
            ]
          },
          "execution_count": 20,
          "metadata": {},
          "output_type": "execute_result"
        }
      ],
      "source": [
        "#Cantidad de seguros por Genero\n",
        "df['Genero'].value_counts()"
      ]
    },
    {
      "cell_type": "code",
      "execution_count": null,
      "metadata": {
        "colab": {
          "base_uri": "https://localhost:8080/",
          "height": 805
        },
        "id": "8MRJoRfuffsr",
        "outputId": "4f6fbb35-f507-4a8f-f4f5-cf521ec0f4c9"
      },
      "outputs": [
        {
          "data": {
            "text/plain": [
              "Ciudad\n",
              "Santiago        78384\n",
              "Concepción      21848\n",
              "Rancagua        17328\n",
              "Valparaíso      16144\n",
              "Chillán         11456\n",
              "Arica           10368\n",
              "Osorno           7544\n",
              "Los Ángeles      7336\n",
              "Copiapó          5208\n",
              "La Serena        4520\n",
              "Puerto Montt     4360\n",
              "Antofagasta      3600\n",
              "Buin             3000\n",
              "Temuco           2008\n",
              "Iquique          1424\n",
              "Ovalle           1400\n",
              "Linares          1296\n",
              "Villarrica       1128\n",
              "Talca            1064\n",
              "Calama            776\n",
              "0                 120\n",
              "$                   8\n",
              "Name: count, dtype: int64"
            ]
          },
          "execution_count": 21,
          "metadata": {},
          "output_type": "execute_result"
        }
      ],
      "source": [
        "#Cantidad de seguros contratados por ciudad\n",
        "df['Ciudad'].value_counts()"
      ]
    },
    {
      "cell_type": "code",
      "execution_count": null,
      "metadata": {
        "colab": {
          "base_uri": "https://localhost:8080/",
          "height": 617
        },
        "id": "4uvwdZ7jfwfK",
        "outputId": "7fddc571-7788-4415-c20d-9cc1baea7586"
      },
      "outputs": [
        {
          "data": {
            "text/plain": [
              "Region\n",
              "Metropolitana         80312\n",
              "Biobío                29544\n",
              "O'Higgins             16968\n",
              "Valparaíso            15792\n",
              "Los Lagos             11664\n",
              "Ñuble                 11288\n",
              "Arica y Parinacota    10160\n",
              "Coquimbo               5784\n",
              "Atacama                5064\n",
              "Antofagasta            4240\n",
              "Maule                  2352\n",
              "Araucanía              2008\n",
              "Tarapacá               1408\n",
              "Biobio                  136\n",
              "0                       112\n",
              "$                        24\n",
              "Name: count, dtype: int64"
            ]
          },
          "execution_count": 22,
          "metadata": {},
          "output_type": "execute_result"
        }
      ],
      "source": [
        "#Cantidad de seguros contratados por region\n",
        "df['Region'].value_counts()"
      ]
    },
    {
      "cell_type": "code",
      "execution_count": null,
      "metadata": {
        "colab": {
          "base_uri": "https://localhost:8080/",
          "height": 272
        },
        "id": "8eXSML95gPZo",
        "outputId": "a3bf6028-6d50-41f3-fa2f-96fbb56bc335"
      },
      "outputs": [
        {
          "data": {
            "text/plain": [
              "Estado_Civil\n",
              "Soltero(a)    126648\n",
              "Casado(a)      54536\n",
              "Viudo(a)       18832\n",
              "0                 88\n",
              "$                 32\n",
              "Name: count, dtype: int64"
            ]
          },
          "execution_count": 23,
          "metadata": {},
          "output_type": "execute_result"
        }
      ],
      "source": [
        "#Cantidad de seguros contratados por estado civil\n",
        "df['Estado_Civil'].value_counts()"
      ]
    },
    {
      "cell_type": "code",
      "execution_count": null,
      "metadata": {
        "colab": {
          "base_uri": "https://localhost:8080/",
          "height": 303
        },
        "id": "cZtpSbTVgc3k",
        "outputId": "9832926a-fe67-4312-86ff-36012a40c885"
      },
      "outputs": [
        {
          "data": {
            "text/plain": [
              "Educacion\n",
              "Técnico          89624\n",
              "Universitario    53792\n",
              "Media            25208\n",
              "Magister         21752\n",
              "Doctorado         9512\n",
              "0                  112\n",
              "Tecnico             56\n",
              "Name: count, dtype: int64"
            ]
          },
          "execution_count": 24,
          "metadata": {},
          "output_type": "execute_result"
        }
      ],
      "source": [
        "#Cantidad de seguros contratados por grado academico\n",
        "df['Educacion'].value_counts()"
      ]
    },
    {
      "cell_type": "markdown",
      "metadata": {
        "id": "Aezv4fcZg_pA"
      },
      "source": [
        "En esta seccion de frecuencia nos podemos dar cuenta que todas las columnas tienen datos erroneos, ya sea en los nombres como en el caso de educacion donde tenemos 2 tipos de \"técnico y tecnico\" por otra parte tambien tenemos datos erroneos en todas las columnas que debemos arreglar."
      ]
    },
    {
      "cell_type": "markdown",
      "metadata": {
        "id": "FO0xa74KirDj"
      },
      "source": [
        "# **3. PREPROCESAMIENTO**"
      ]
    },
    {
      "cell_type": "markdown",
      "metadata": {
        "id": "1hvjQ1qbm9Z3"
      },
      "source": [
        "## **3.1. Errores de registro**"
      ]
    },
    {
      "cell_type": "code",
      "execution_count": 46,
      "metadata": {
        "colab": {
          "base_uri": "https://localhost:8080/"
        },
        "id": "Vf2ad9K-j4YC",
        "outputId": "cba97c5b-de32-49b6-cd50-25d1f31f1934"
      },
      "outputs": [
        {
          "data": {
            "text/plain": [
              "array(['Técnico', nan, 'Media', 'Universitario', 0, 'Magister',\n",
              "       'Doctorado'], dtype=object)"
            ]
          },
          "execution_count": 46,
          "metadata": {},
          "output_type": "execute_result"
        }
      ],
      "source": [
        "# Unificar clases de la columna 'Educacion'\n",
        "df['Educacion'] = df['Educacion'].replace({'Tecnico': 'Técnico'})\n",
        "df['Educacion'].unique()"
      ]
    },
    {
      "cell_type": "markdown",
      "metadata": {
        "id": "h-pDaNd3m3_V"
      },
      "source": [
        "## **3.2. Limpieza**"
      ]
    },
    {
      "cell_type": "code",
      "execution_count": 47,
      "metadata": {
        "id": "AMq4J5r-m5EK"
      },
      "outputs": [],
      "source": [
        "# Filtrar filas distintas de 0\n",
        "df = df[\n",
        "    (df['Ciudad'] != '0') &\n",
        "    (df['Genero'] != 0) &\n",
        "    (df['Region'] != 0) &\n",
        "    (df['Estado_Civil'] != 0) &\n",
        "    (df['Educacion'] != 0)\n",
        "]"
      ]
    },
    {
      "cell_type": "markdown",
      "metadata": {
        "id": "BRISZYTtuq2q"
      },
      "source": [
        "en el caso se \"Seguro\" tuve que eliminar las filas 0 y 00 pero como string ya que del modo filtrar no resulta debido al tipo de dato."
      ]
    },
    {
      "cell_type": "code",
      "execution_count": 48,
      "metadata": {
        "colab": {
          "base_uri": "https://localhost:8080/"
        },
        "id": "Ul7hdJDmsq9d",
        "outputId": "62da333e-6c11-499b-eda0-9b2dc07f591f"
      },
      "outputs": [
        {
          "data": {
            "text/plain": [
              "array([nan, 'Accidente', 'Automotriz', 'Salud', 'Desgravamen', 'Vida',\n",
              "       'Robo', 'Viaje'], dtype=object)"
            ]
          },
          "execution_count": 48,
          "metadata": {},
          "output_type": "execute_result"
        }
      ],
      "source": [
        "# Eliminar las filas donde Seguro sea igual a 0 y 00\n",
        "df = df.drop(df[(df['Seguro'] == '0') | (df['Seguro'] == '00')].index)\n",
        "df['Seguro'].unique()"
      ]
    },
    {
      "cell_type": "code",
      "execution_count": 49,
      "metadata": {
        "id": "gRIEVuYcyPbH"
      },
      "outputs": [],
      "source": [
        "# Filtrar filas distintas de $\n",
        "df = df[\n",
        "    (df['Genero'] != '$') &\n",
        "    (df['Ciudad'] != '$') &\n",
        "    (df['Region'] != '$') &\n",
        "    (df['Estado_Civil'] != '$')\n",
        "]"
      ]
    },
    {
      "cell_type": "code",
      "execution_count": 50,
      "metadata": {
        "id": "UWp2pwjJzgqf"
      },
      "outputs": [],
      "source": [
        "# Eliminanos columna 11 por no tener datos\n",
        "df = df.drop(columns=['Columna 11'])"
      ]
    },
    {
      "cell_type": "code",
      "execution_count": null,
      "metadata": {
        "id": "jinh-0tKx6t9",
        "outputId": "96902ad9-34cc-4e9f-f671-9758e037d62f"
      },
      "outputs": [
        {
          "data": {
            "text/plain": [
              "array([nan, 'Masculino', 'Femenino'], dtype=object)"
            ]
          },
          "execution_count": 35,
          "metadata": {},
          "output_type": "execute_result"
        }
      ],
      "source": [
        "df['Genero'].unique()"
      ]
    },
    {
      "cell_type": "code",
      "execution_count": null,
      "metadata": {
        "id": "ioKjjVSn4ODs",
        "outputId": "25afd30e-43e5-4967-c3fd-34dd7b674b77"
      },
      "outputs": [
        {
          "data": {
            "text/plain": [
              "array([nan, 'Concepción', 'Buin', 'Puerto Montt', 'Valparaíso', 'Osorno',\n",
              "       'Chillán', 'Rancagua', 'Arica', 'Los Ángeles', 'Copiapó',\n",
              "       'Antofagasta', 'La Serena', 'Temuco', 'Iquique', 'Linares',\n",
              "       'Santiago', 'Ovalle', 'Talca', 'Villarrica', 'Calama'],\n",
              "      dtype=object)"
            ]
          },
          "execution_count": 36,
          "metadata": {},
          "output_type": "execute_result"
        }
      ],
      "source": [
        "df['Ciudad'].unique()"
      ]
    },
    {
      "cell_type": "code",
      "execution_count": null,
      "metadata": {
        "id": "CL5nfQhs4ODv",
        "outputId": "c9e5f1c1-2298-4e39-dac1-bf9f5c962538"
      },
      "outputs": [
        {
          "data": {
            "text/plain": [
              "array([nan, 'Biobío', 'Los Lagos', 'Valparaíso', 'Ñuble', 'Atacama',\n",
              "       \"O'Higgins\", 'Antofagasta', 'Coquimbo', 'Arica y Parinacota',\n",
              "       'Araucanía', 'Tarapacá', 'Metropolitana', 'Maule', 'Biobio'],\n",
              "      dtype=object)"
            ]
          },
          "execution_count": 37,
          "metadata": {},
          "output_type": "execute_result"
        }
      ],
      "source": [
        "df['Region'].unique()"
      ]
    },
    {
      "cell_type": "code",
      "execution_count": null,
      "metadata": {
        "id": "Bagv3YnU4ODw",
        "outputId": "d207bebe-b759-45a8-b7f5-5594d168ac13"
      },
      "outputs": [
        {
          "data": {
            "text/plain": [
              "array([nan, 'Casado(a)', 'Soltero(a)', 'Viudo(a)'], dtype=object)"
            ]
          },
          "execution_count": 38,
          "metadata": {},
          "output_type": "execute_result"
        }
      ],
      "source": [
        "df['Estado_Civil'].unique()"
      ]
    },
    {
      "cell_type": "code",
      "execution_count": null,
      "metadata": {
        "id": "BYy_N2x-4ODw",
        "outputId": "1d3293c0-ce14-42cc-fbc5-f125137a29e4"
      },
      "outputs": [
        {
          "data": {
            "text/plain": [
              "array([nan, 'Técnico', 'Media', 'Universitario', 'Magister', 'Doctorado'],\n",
              "      dtype=object)"
            ]
          },
          "execution_count": 39,
          "metadata": {},
          "output_type": "execute_result"
        }
      ],
      "source": [
        "df['Educacion'].unique()"
      ]
    },
    {
      "cell_type": "markdown",
      "metadata": {
        "id": "xHqVXvCP1AGM"
      },
      "source": [
        "## **3.3. Duplicados**"
      ]
    },
    {
      "cell_type": "code",
      "execution_count": 51,
      "metadata": {
        "colab": {
          "base_uri": "https://localhost:8080/",
          "height": 89
        },
        "id": "pkk54F491O7l",
        "outputId": "23f05030-822c-4574-f586-97ff671b6f76"
      },
      "outputs": [
        {
          "data": {
            "application/vnd.google.colaboratory.intrinsic+json": {
              "repr_error": "Out of range float values are not JSON compliant: nan",
              "type": "dataframe",
              "variable_name": "duplicados"
            },
            "text/html": [
              "\n",
              "  <div id=\"df-9eb6b36f-e657-41b2-b775-6ddae35ff938\" class=\"colab-df-container\">\n",
              "    <div>\n",
              "<style scoped>\n",
              "    .dataframe tbody tr th:only-of-type {\n",
              "        vertical-align: middle;\n",
              "    }\n",
              "\n",
              "    .dataframe tbody tr th {\n",
              "        vertical-align: top;\n",
              "    }\n",
              "\n",
              "    .dataframe thead th {\n",
              "        text-align: right;\n",
              "    }\n",
              "</style>\n",
              "<table border=\"1\" class=\"dataframe\">\n",
              "  <thead>\n",
              "    <tr style=\"text-align: right;\">\n",
              "      <th></th>\n",
              "      <th>Id_cliente</th>\n",
              "      <th>Seguro</th>\n",
              "      <th>Genero</th>\n",
              "      <th>Ciudad</th>\n",
              "      <th>Region</th>\n",
              "      <th>Estado_Civil</th>\n",
              "      <th>Educacion</th>\n",
              "      <th>N°_Hijos</th>\n",
              "      <th>Cupo_TC</th>\n",
              "      <th>Gasto_Mensual</th>\n",
              "    </tr>\n",
              "  </thead>\n",
              "  <tbody>\n",
              "  </tbody>\n",
              "</table>\n",
              "</div>\n",
              "    <div class=\"colab-df-buttons\">\n",
              "\n",
              "  <div class=\"colab-df-container\">\n",
              "    <button class=\"colab-df-convert\" onclick=\"convertToInteractive('df-9eb6b36f-e657-41b2-b775-6ddae35ff938')\"\n",
              "            title=\"Convert this dataframe to an interactive table.\"\n",
              "            style=\"display:none;\">\n",
              "\n",
              "  <svg xmlns=\"http://www.w3.org/2000/svg\" height=\"24px\" viewBox=\"0 -960 960 960\">\n",
              "    <path d=\"M120-120v-720h720v720H120Zm60-500h600v-160H180v160Zm220 220h160v-160H400v160Zm0 220h160v-160H400v160ZM180-400h160v-160H180v160Zm440 0h160v-160H620v160ZM180-180h160v-160H180v160Zm440 0h160v-160H620v160Z\"/>\n",
              "  </svg>\n",
              "    </button>\n",
              "\n",
              "  <style>\n",
              "    .colab-df-container {\n",
              "      display:flex;\n",
              "      gap: 12px;\n",
              "    }\n",
              "\n",
              "    .colab-df-convert {\n",
              "      background-color: #E8F0FE;\n",
              "      border: none;\n",
              "      border-radius: 50%;\n",
              "      cursor: pointer;\n",
              "      display: none;\n",
              "      fill: #1967D2;\n",
              "      height: 32px;\n",
              "      padding: 0 0 0 0;\n",
              "      width: 32px;\n",
              "    }\n",
              "\n",
              "    .colab-df-convert:hover {\n",
              "      background-color: #E2EBFA;\n",
              "      box-shadow: 0px 1px 2px rgba(60, 64, 67, 0.3), 0px 1px 3px 1px rgba(60, 64, 67, 0.15);\n",
              "      fill: #174EA6;\n",
              "    }\n",
              "\n",
              "    .colab-df-buttons div {\n",
              "      margin-bottom: 4px;\n",
              "    }\n",
              "\n",
              "    [theme=dark] .colab-df-convert {\n",
              "      background-color: #3B4455;\n",
              "      fill: #D2E3FC;\n",
              "    }\n",
              "\n",
              "    [theme=dark] .colab-df-convert:hover {\n",
              "      background-color: #434B5C;\n",
              "      box-shadow: 0px 1px 3px 1px rgba(0, 0, 0, 0.15);\n",
              "      filter: drop-shadow(0px 1px 2px rgba(0, 0, 0, 0.3));\n",
              "      fill: #FFFFFF;\n",
              "    }\n",
              "  </style>\n",
              "\n",
              "    <script>\n",
              "      const buttonEl =\n",
              "        document.querySelector('#df-9eb6b36f-e657-41b2-b775-6ddae35ff938 button.colab-df-convert');\n",
              "      buttonEl.style.display =\n",
              "        google.colab.kernel.accessAllowed ? 'block' : 'none';\n",
              "\n",
              "      async function convertToInteractive(key) {\n",
              "        const element = document.querySelector('#df-9eb6b36f-e657-41b2-b775-6ddae35ff938');\n",
              "        const dataTable =\n",
              "          await google.colab.kernel.invokeFunction('convertToInteractive',\n",
              "                                                    [key], {});\n",
              "        if (!dataTable) return;\n",
              "\n",
              "        const docLinkHtml = 'Like what you see? Visit the ' +\n",
              "          '<a target=\"_blank\" href=https://colab.research.google.com/notebooks/data_table.ipynb>data table notebook</a>'\n",
              "          + ' to learn more about interactive tables.';\n",
              "        element.innerHTML = '';\n",
              "        dataTable['output_type'] = 'display_data';\n",
              "        await google.colab.output.renderOutput(dataTable, element);\n",
              "        const docLink = document.createElement('div');\n",
              "        docLink.innerHTML = docLinkHtml;\n",
              "        element.appendChild(docLink);\n",
              "      }\n",
              "    </script>\n",
              "  </div>\n",
              "\n",
              "\n",
              "  <div id=\"id_951f7d77-0d2f-411f-bbc8-7390d895eff6\">\n",
              "    <style>\n",
              "      .colab-df-generate {\n",
              "        background-color: #E8F0FE;\n",
              "        border: none;\n",
              "        border-radius: 50%;\n",
              "        cursor: pointer;\n",
              "        display: none;\n",
              "        fill: #1967D2;\n",
              "        height: 32px;\n",
              "        padding: 0 0 0 0;\n",
              "        width: 32px;\n",
              "      }\n",
              "\n",
              "      .colab-df-generate:hover {\n",
              "        background-color: #E2EBFA;\n",
              "        box-shadow: 0px 1px 2px rgba(60, 64, 67, 0.3), 0px 1px 3px 1px rgba(60, 64, 67, 0.15);\n",
              "        fill: #174EA6;\n",
              "      }\n",
              "\n",
              "      [theme=dark] .colab-df-generate {\n",
              "        background-color: #3B4455;\n",
              "        fill: #D2E3FC;\n",
              "      }\n",
              "\n",
              "      [theme=dark] .colab-df-generate:hover {\n",
              "        background-color: #434B5C;\n",
              "        box-shadow: 0px 1px 3px 1px rgba(0, 0, 0, 0.15);\n",
              "        filter: drop-shadow(0px 1px 2px rgba(0, 0, 0, 0.3));\n",
              "        fill: #FFFFFF;\n",
              "      }\n",
              "    </style>\n",
              "    <button class=\"colab-df-generate\" onclick=\"generateWithVariable('duplicados')\"\n",
              "            title=\"Generate code using this dataframe.\"\n",
              "            style=\"display:none;\">\n",
              "\n",
              "  <svg xmlns=\"http://www.w3.org/2000/svg\" height=\"24px\"viewBox=\"0 0 24 24\"\n",
              "       width=\"24px\">\n",
              "    <path d=\"M7,19H8.4L18.45,9,17,7.55,7,17.6ZM5,21V16.75L18.45,3.32a2,2,0,0,1,2.83,0l1.4,1.43a1.91,1.91,0,0,1,.58,1.4,1.91,1.91,0,0,1-.58,1.4L9.25,21ZM18.45,9,17,7.55Zm-12,3A5.31,5.31,0,0,0,4.9,8.1,5.31,5.31,0,0,0,1,6.5,5.31,5.31,0,0,0,4.9,4.9,5.31,5.31,0,0,0,6.5,1,5.31,5.31,0,0,0,8.1,4.9,5.31,5.31,0,0,0,12,6.5,5.46,5.46,0,0,0,6.5,12Z\"/>\n",
              "  </svg>\n",
              "    </button>\n",
              "    <script>\n",
              "      (() => {\n",
              "      const buttonEl =\n",
              "        document.querySelector('#id_951f7d77-0d2f-411f-bbc8-7390d895eff6 button.colab-df-generate');\n",
              "      buttonEl.style.display =\n",
              "        google.colab.kernel.accessAllowed ? 'block' : 'none';\n",
              "\n",
              "      buttonEl.onclick = () => {\n",
              "        google.colab.notebook.generateWithVariable('duplicados');\n",
              "      }\n",
              "      })();\n",
              "    </script>\n",
              "  </div>\n",
              "\n",
              "    </div>\n",
              "  </div>\n"
            ],
            "text/plain": [
              "Empty DataFrame\n",
              "Columns: [Id_cliente, Seguro, Genero, Ciudad, Region, Estado_Civil, Educacion, N°_Hijos, Cupo_TC, Gasto_Mensual]\n",
              "Index: []"
            ]
          },
          "execution_count": 51,
          "metadata": {},
          "output_type": "execute_result"
        }
      ],
      "source": [
        "# Encontrar duplicados\n",
        "duplicados = df[df.duplicated(subset=['Id_cliente'], keep=False)]\n",
        "duplicados"
      ]
    },
    {
      "cell_type": "markdown",
      "metadata": {
        "id": "iHWK0heT3Iw8"
      },
      "source": [
        "## **3.4. Datos nulos (missing)**\n",
        "\n"
      ]
    },
    {
      "cell_type": "code",
      "execution_count": 52,
      "metadata": {
        "colab": {
          "base_uri": "https://localhost:8080/",
          "height": 397
        },
        "id": "FN7Qk2pb3Lu0",
        "outputId": "95f17688-de3f-401c-fe66-15fa0d0b1fd6"
      },
      "outputs": [
        {
          "data": {
            "text/html": [
              "<div>\n",
              "<style scoped>\n",
              "    .dataframe tbody tr th:only-of-type {\n",
              "        vertical-align: middle;\n",
              "    }\n",
              "\n",
              "    .dataframe tbody tr th {\n",
              "        vertical-align: top;\n",
              "    }\n",
              "\n",
              "    .dataframe thead th {\n",
              "        text-align: right;\n",
              "    }\n",
              "</style>\n",
              "<table border=\"1\" class=\"dataframe\">\n",
              "  <thead>\n",
              "    <tr style=\"text-align: right;\">\n",
              "      <th></th>\n",
              "      <th>0</th>\n",
              "    </tr>\n",
              "  </thead>\n",
              "  <tbody>\n",
              "    <tr>\n",
              "      <th>Id_cliente</th>\n",
              "      <td>0</td>\n",
              "    </tr>\n",
              "    <tr>\n",
              "      <th>Seguro</th>\n",
              "      <td>231</td>\n",
              "    </tr>\n",
              "    <tr>\n",
              "      <th>Genero</th>\n",
              "      <td>400</td>\n",
              "    </tr>\n",
              "    <tr>\n",
              "      <th>Ciudad</th>\n",
              "      <td>264</td>\n",
              "    </tr>\n",
              "    <tr>\n",
              "      <th>Region</th>\n",
              "      <td>3689</td>\n",
              "    </tr>\n",
              "    <tr>\n",
              "      <th>Estado_Civil</th>\n",
              "      <td>440</td>\n",
              "    </tr>\n",
              "    <tr>\n",
              "      <th>Educacion</th>\n",
              "      <td>520</td>\n",
              "    </tr>\n",
              "    <tr>\n",
              "      <th>N°_Hijos</th>\n",
              "      <td>304</td>\n",
              "    </tr>\n",
              "    <tr>\n",
              "      <th>Cupo_TC</th>\n",
              "      <td>409</td>\n",
              "    </tr>\n",
              "    <tr>\n",
              "      <th>Gasto_Mensual</th>\n",
              "      <td>1176</td>\n",
              "    </tr>\n",
              "  </tbody>\n",
              "</table>\n",
              "</div><br><label><b>dtype:</b> int64</label>"
            ],
            "text/plain": [
              "Id_cliente          0\n",
              "Seguro            231\n",
              "Genero            400\n",
              "Ciudad            264\n",
              "Region           3689\n",
              "Estado_Civil      440\n",
              "Educacion         520\n",
              "N°_Hijos          304\n",
              "Cupo_TC           409\n",
              "Gasto_Mensual    1176\n",
              "dtype: int64"
            ]
          },
          "execution_count": 52,
          "metadata": {},
          "output_type": "execute_result"
        }
      ],
      "source": [
        "#Datos nulos\n",
        "df.isna().sum()"
      ]
    },
    {
      "cell_type": "code",
      "execution_count": 53,
      "metadata": {
        "id": "o1NMJr7n4R0F"
      },
      "outputs": [],
      "source": [
        "# Eliminar filas con datos nulos\n",
        "df = df.dropna(subset=['Seguro','Genero','Ciudad','Estado_Civil','Educacion','N°_Hijos','Cupo_TC','Gasto_Mensual'])"
      ]
    },
    {
      "cell_type": "markdown",
      "metadata": {
        "id": "5gaX7lzR5dR0"
      },
      "source": [
        "Eliminamos los datos nulos de las columnas debido a que no representan cerca del 10% de los datos, en el caso de Region al ser mas datos intentamos recuperarlos"
      ]
    },
    {
      "cell_type": "code",
      "execution_count": 54,
      "metadata": {
        "colab": {
          "base_uri": "https://localhost:8080/",
          "height": 397
        },
        "id": "XT_aG_Pg47Kk",
        "outputId": "40ed0102-b958-4b06-f304-e133d29d6ee4"
      },
      "outputs": [
        {
          "data": {
            "text/html": [
              "<div>\n",
              "<style scoped>\n",
              "    .dataframe tbody tr th:only-of-type {\n",
              "        vertical-align: middle;\n",
              "    }\n",
              "\n",
              "    .dataframe tbody tr th {\n",
              "        vertical-align: top;\n",
              "    }\n",
              "\n",
              "    .dataframe thead th {\n",
              "        text-align: right;\n",
              "    }\n",
              "</style>\n",
              "<table border=\"1\" class=\"dataframe\">\n",
              "  <thead>\n",
              "    <tr style=\"text-align: right;\">\n",
              "      <th></th>\n",
              "      <th>0</th>\n",
              "    </tr>\n",
              "  </thead>\n",
              "  <tbody>\n",
              "    <tr>\n",
              "      <th>Id_cliente</th>\n",
              "      <td>0</td>\n",
              "    </tr>\n",
              "    <tr>\n",
              "      <th>Seguro</th>\n",
              "      <td>0</td>\n",
              "    </tr>\n",
              "    <tr>\n",
              "      <th>Genero</th>\n",
              "      <td>0</td>\n",
              "    </tr>\n",
              "    <tr>\n",
              "      <th>Ciudad</th>\n",
              "      <td>0</td>\n",
              "    </tr>\n",
              "    <tr>\n",
              "      <th>Region</th>\n",
              "      <td>3544</td>\n",
              "    </tr>\n",
              "    <tr>\n",
              "      <th>Estado_Civil</th>\n",
              "      <td>0</td>\n",
              "    </tr>\n",
              "    <tr>\n",
              "      <th>Educacion</th>\n",
              "      <td>0</td>\n",
              "    </tr>\n",
              "    <tr>\n",
              "      <th>N°_Hijos</th>\n",
              "      <td>0</td>\n",
              "    </tr>\n",
              "    <tr>\n",
              "      <th>Cupo_TC</th>\n",
              "      <td>0</td>\n",
              "    </tr>\n",
              "    <tr>\n",
              "      <th>Gasto_Mensual</th>\n",
              "      <td>0</td>\n",
              "    </tr>\n",
              "  </tbody>\n",
              "</table>\n",
              "</div><br><label><b>dtype:</b> int64</label>"
            ],
            "text/plain": [
              "Id_cliente          0\n",
              "Seguro              0\n",
              "Genero              0\n",
              "Ciudad              0\n",
              "Region           3544\n",
              "Estado_Civil        0\n",
              "Educacion           0\n",
              "N°_Hijos            0\n",
              "Cupo_TC             0\n",
              "Gasto_Mensual       0\n",
              "dtype: int64"
            ]
          },
          "execution_count": 54,
          "metadata": {},
          "output_type": "execute_result"
        }
      ],
      "source": [
        "#Datos nulos\n",
        "df.isna().sum()"
      ]
    },
    {
      "cell_type": "code",
      "execution_count": null,
      "metadata": {
        "colab": {
          "base_uri": "https://localhost:8080/",
          "height": 300
        },
        "id": "glZWL7SW7iI1",
        "outputId": "7eb399b5-3cea-4c40-8d51-555040b0f689"
      },
      "outputs": [
        {
          "data": {
            "text/html": [
              "<div>\n",
              "<style scoped>\n",
              "    .dataframe tbody tr th:only-of-type {\n",
              "        vertical-align: middle;\n",
              "    }\n",
              "\n",
              "    .dataframe tbody tr th {\n",
              "        vertical-align: top;\n",
              "    }\n",
              "\n",
              "    .dataframe thead th {\n",
              "        text-align: right;\n",
              "    }\n",
              "</style>\n",
              "<table border=\"1\" class=\"dataframe\">\n",
              "  <thead>\n",
              "    <tr style=\"text-align: right;\">\n",
              "      <th></th>\n",
              "      <th>Id_cliente</th>\n",
              "      <th>N°_Hijos</th>\n",
              "      <th>Cupo_TC</th>\n",
              "      <th>Gasto_Mensual</th>\n",
              "    </tr>\n",
              "  </thead>\n",
              "  <tbody>\n",
              "    <tr>\n",
              "      <th>count</th>\n",
              "      <td>196993.000000</td>\n",
              "      <td>196993.000000</td>\n",
              "      <td>1.969930e+05</td>\n",
              "      <td>1.969930e+05</td>\n",
              "    </tr>\n",
              "    <tr>\n",
              "      <th>mean</th>\n",
              "      <td>123506.827435</td>\n",
              "      <td>1.875117</td>\n",
              "      <td>1.456341e+06</td>\n",
              "      <td>1.773966e+06</td>\n",
              "    </tr>\n",
              "    <tr>\n",
              "      <th>std</th>\n",
              "      <td>57900.144049</td>\n",
              "      <td>1.558439</td>\n",
              "      <td>1.280993e+06</td>\n",
              "      <td>8.569264e+06</td>\n",
              "    </tr>\n",
              "    <tr>\n",
              "      <th>min</th>\n",
              "      <td>23215.000000</td>\n",
              "      <td>0.000000</td>\n",
              "      <td>-2.000000e+06</td>\n",
              "      <td>-9.350280e+05</td>\n",
              "    </tr>\n",
              "    <tr>\n",
              "      <th>25%</th>\n",
              "      <td>73350.000000</td>\n",
              "      <td>1.000000</td>\n",
              "      <td>1.000000e+06</td>\n",
              "      <td>7.152270e+05</td>\n",
              "    </tr>\n",
              "    <tr>\n",
              "      <th>50%</th>\n",
              "      <td>123496.000000</td>\n",
              "      <td>2.000000</td>\n",
              "      <td>1.000000e+06</td>\n",
              "      <td>9.365830e+05</td>\n",
              "    </tr>\n",
              "    <tr>\n",
              "      <th>75%</th>\n",
              "      <td>173642.000000</td>\n",
              "      <td>3.000000</td>\n",
              "      <td>2.000000e+06</td>\n",
              "      <td>1.958400e+06</td>\n",
              "    </tr>\n",
              "    <tr>\n",
              "      <th>max</th>\n",
              "      <td>223788.000000</td>\n",
              "      <td>5.000000</td>\n",
              "      <td>1.000000e+08</td>\n",
              "      <td>9.460400e+08</td>\n",
              "    </tr>\n",
              "  </tbody>\n",
              "</table>\n",
              "</div>"
            ],
            "text/plain": [
              "          Id_cliente       N°_Hijos       Cupo_TC  Gasto_Mensual\n",
              "count  196993.000000  196993.000000  1.969930e+05   1.969930e+05\n",
              "mean   123506.827435       1.875117  1.456341e+06   1.773966e+06\n",
              "std     57900.144049       1.558439  1.280993e+06   8.569264e+06\n",
              "min     23215.000000       0.000000 -2.000000e+06  -9.350280e+05\n",
              "25%     73350.000000       1.000000  1.000000e+06   7.152270e+05\n",
              "50%    123496.000000       2.000000  1.000000e+06   9.365830e+05\n",
              "75%    173642.000000       3.000000  2.000000e+06   1.958400e+06\n",
              "max    223788.000000       5.000000  1.000000e+08   9.460400e+08"
            ]
          },
          "execution_count": 47,
          "metadata": {},
          "output_type": "execute_result"
        }
      ],
      "source": [
        "df.describe()"
      ]
    },
    {
      "cell_type": "code",
      "execution_count": 55,
      "metadata": {
        "id": "ZDIc3Xfz_Pua"
      },
      "outputs": [],
      "source": [
        "# Función para asignar la región en función de la ciudad\n",
        "def asignar_region(Ciudad):\n",
        "    mapeo_ciudad_region = {\n",
        "        'Santiago': 'Metropolitana',\n",
        "        'Concepción': 'Biobío',\n",
        "        'Rancagua': \"O'Higgins\",\n",
        "        'Valparaíso': 'Valparaíso',\n",
        "        'Chillán': 'Ñuble',\n",
        "        'Arica': 'Arica y Parinacota',\n",
        "        'Osorno': 'Los Lagos',\n",
        "        'Los Ángeles': 'Biobío',\n",
        "        'Copiapó': 'Atacama',\n",
        "        'La Serena': 'Coquimbo',\n",
        "        'Puerto Montt': 'Los Lagos',\n",
        "        'Antofagasta': 'Antofagasta',\n",
        "        'Buin': 'Metropolitana',\n",
        "        'Temuco': 'Araucanía',\n",
        "        'Iquique': 'Tarapacá',\n",
        "        'Ovalle': 'Coquimbo',\n",
        "        'Linares': 'Maule',\n",
        "        'Villarrica': 'Araucanía',\n",
        "        'Talca': 'Maule',\n",
        "        'Calama': 'Antofagasta'\n",
        "    }\n",
        "    return mapeo_ciudad_region.get(Ciudad, '')\n",
        "\n",
        "# Aplicar la función y asignar valores a la columna 'Region'\n",
        "df['Region'] = df['Ciudad'].apply(asignar_region)"
      ]
    },
    {
      "cell_type": "code",
      "execution_count": 56,
      "metadata": {
        "colab": {
          "base_uri": "https://localhost:8080/",
          "height": 397
        },
        "id": "1uvlFcwy8MPk",
        "outputId": "a25af79e-cf55-46ec-c24a-bbdc25be2383"
      },
      "outputs": [
        {
          "data": {
            "text/html": [
              "<div>\n",
              "<style scoped>\n",
              "    .dataframe tbody tr th:only-of-type {\n",
              "        vertical-align: middle;\n",
              "    }\n",
              "\n",
              "    .dataframe tbody tr th {\n",
              "        vertical-align: top;\n",
              "    }\n",
              "\n",
              "    .dataframe thead th {\n",
              "        text-align: right;\n",
              "    }\n",
              "</style>\n",
              "<table border=\"1\" class=\"dataframe\">\n",
              "  <thead>\n",
              "    <tr style=\"text-align: right;\">\n",
              "      <th></th>\n",
              "      <th>0</th>\n",
              "    </tr>\n",
              "  </thead>\n",
              "  <tbody>\n",
              "    <tr>\n",
              "      <th>Id_cliente</th>\n",
              "      <td>0</td>\n",
              "    </tr>\n",
              "    <tr>\n",
              "      <th>Seguro</th>\n",
              "      <td>0</td>\n",
              "    </tr>\n",
              "    <tr>\n",
              "      <th>Genero</th>\n",
              "      <td>0</td>\n",
              "    </tr>\n",
              "    <tr>\n",
              "      <th>Ciudad</th>\n",
              "      <td>0</td>\n",
              "    </tr>\n",
              "    <tr>\n",
              "      <th>Region</th>\n",
              "      <td>0</td>\n",
              "    </tr>\n",
              "    <tr>\n",
              "      <th>Estado_Civil</th>\n",
              "      <td>0</td>\n",
              "    </tr>\n",
              "    <tr>\n",
              "      <th>Educacion</th>\n",
              "      <td>0</td>\n",
              "    </tr>\n",
              "    <tr>\n",
              "      <th>N°_Hijos</th>\n",
              "      <td>0</td>\n",
              "    </tr>\n",
              "    <tr>\n",
              "      <th>Cupo_TC</th>\n",
              "      <td>0</td>\n",
              "    </tr>\n",
              "    <tr>\n",
              "      <th>Gasto_Mensual</th>\n",
              "      <td>0</td>\n",
              "    </tr>\n",
              "  </tbody>\n",
              "</table>\n",
              "</div><br><label><b>dtype:</b> int64</label>"
            ],
            "text/plain": [
              "Id_cliente       0\n",
              "Seguro           0\n",
              "Genero           0\n",
              "Ciudad           0\n",
              "Region           0\n",
              "Estado_Civil     0\n",
              "Educacion        0\n",
              "N°_Hijos         0\n",
              "Cupo_TC          0\n",
              "Gasto_Mensual    0\n",
              "dtype: int64"
            ]
          },
          "execution_count": 56,
          "metadata": {},
          "output_type": "execute_result"
        }
      ],
      "source": [
        "#Datos nulos\n",
        "df.isna().sum()"
      ]
    },
    {
      "cell_type": "code",
      "execution_count": 57,
      "metadata": {
        "id": "FqfRS1yh84hc"
      },
      "outputs": [],
      "source": [
        "# Conviertiremos las columnas float a int\n",
        "columnas_a_convertir = ['N°_Hijos', 'Cupo_TC', 'Gasto_Mensual']\n",
        "df[columnas_a_convertir] = df[columnas_a_convertir].astype(int)"
      ]
    },
    {
      "cell_type": "code",
      "execution_count": 58,
      "metadata": {
        "colab": {
          "base_uri": "https://localhost:8080/"
        },
        "id": "JGOaWY_F9P59",
        "outputId": "24017cf8-ac47-42e2-d20c-008d62b26a7a"
      },
      "outputs": [
        {
          "name": "stdout",
          "output_type": "stream",
          "text": [
            "<class 'pandas.core.frame.DataFrame'>\n",
            "Index: 196993 entries, 5 to 200578\n",
            "Data columns (total 10 columns):\n",
            " #   Column         Non-Null Count   Dtype \n",
            "---  ------         --------------   ----- \n",
            " 0   Id_cliente     196993 non-null  int64 \n",
            " 1   Seguro         196993 non-null  object\n",
            " 2   Genero         196993 non-null  object\n",
            " 3   Ciudad         196993 non-null  object\n",
            " 4   Region         196993 non-null  object\n",
            " 5   Estado_Civil   196993 non-null  object\n",
            " 6   Educacion      196993 non-null  object\n",
            " 7   N°_Hijos       196993 non-null  int64 \n",
            " 8   Cupo_TC        196993 non-null  int64 \n",
            " 9   Gasto_Mensual  196993 non-null  int64 \n",
            "dtypes: int64(4), object(6)\n",
            "memory usage: 16.5+ MB\n"
          ]
        }
      ],
      "source": [
        "#Tipo de datos\n",
        "df.info()"
      ]
    },
    {
      "cell_type": "markdown",
      "metadata": {
        "id": "c1UdSqRcNAdp"
      },
      "source": [
        "## **3.5. Datos atípicos (outliers)**"
      ]
    },
    {
      "cell_type": "code",
      "execution_count": 59,
      "metadata": {
        "colab": {
          "base_uri": "https://localhost:8080/",
          "height": 303
        },
        "id": "SAIM4v7wXh3F",
        "outputId": "1146214b-64cb-4069-a1c0-7d60add0991b"
      },
      "outputs": [
        {
          "data": {
            "image/png": "[encoded data removed]",
            "text/plain": [
              "<Figure size 1500x400 with 3 Axes>"
            ]
          },
          "metadata": {},
          "output_type": "display_data"
        }
      ],
      "source": [
        "# Selecciona las columnas \"Cupo_TC\" e \"Gasto_Mensual\" de tu DataFrame\n",
        "columnas = df[[\"N°_Hijos\",\"Cupo_TC\", \"Gasto_Mensual\"]]\n",
        "\n",
        "# Crea una figura con tres subplots en una fila, uno por cada columna a graficar\n",
        "# El número de subplots debe coincidir con el número de columnas en 'columnas'\n",
        "fig, axes = plt.subplots(1, 3, figsize=(15, 4))  # 1 fila, 3 columnas\n",
        "\n",
        "\n",
        "# Crea un gráfico de caja para cada columna en su respectivo subplot\n",
        "for i, column in enumerate(columnas.columns):\n",
        "    ax = axes[i]\n",
        "    ax.boxplot(columnas[column])  # Gráfico de boxplot con color\n",
        "    ax.set_xlabel(column)  # Título del eje x con el nombre de la columna\n",
        "    ax.set_ylabel(\"Frecuencia\")  # Título del eje Y\n",
        "    ax.set_title(f\"Boxplot de {column}\")\n",
        "    # Oculta el eje x\n",
        "    ax.get_xaxis().set_visible(False)\n",
        "# Ajusta la disposición y muestra los gráficos uno al lado del otro\n",
        "plt.tight_layout()\n",
        "plt.show()"
      ]
    },
    {
      "cell_type": "code",
      "execution_count": 60,
      "metadata": {
        "colab": {
          "base_uri": "https://localhost:8080/",
          "height": 300
        },
        "id": "1BFEjTVm4OD6",
        "outputId": "144ce972-bae2-4439-ca2b-ef6c49860044"
      },
      "outputs": [
        {
          "data": {
            "application/vnd.google.colaboratory.intrinsic+json": {
              "summary": "{\n  \"name\": \"df\",\n  \"rows\": 8,\n  \"fields\": [\n    {\n      \"column\": \"Id_cliente\",\n      \"properties\": {\n        \"dtype\": \"number\",\n        \"std\": 70549.66398273081,\n        \"min\": 23215.0,\n        \"max\": 223788.0,\n        \"num_unique_values\": 8,\n        \"samples\": [\n          123506.82743549263,\n          123496.0,\n          196993.0\n        ],\n        \"semantic_type\": \"\",\n        \"description\": \"\"\n      }\n    },\n    {\n      \"column\": \"N\\u00b0_Hijos\",\n      \"properties\": {\n        \"dtype\": \"number\",\n        \"std\": 69646.81408403005,\n        \"min\": 0.0,\n        \"max\": 196993.0,\n        \"num_unique_values\": 8,\n        \"samples\": [\n          1.875117389958019,\n          2.0,\n          196993.0\n        ],\n        \"semantic_type\": \"\",\n        \"description\": \"\"\n      }\n    },\n    {\n      \"column\": \"Cupo_TC\",\n      \"properties\": {\n        \"dtype\": \"number\",\n        \"std\": 35127114.16848325,\n        \"min\": -2000000.0,\n        \"max\": 100000000.0,\n        \"num_unique_values\": 7,\n        \"samples\": [\n          196993.0,\n          1456341.1097856269,\n          2000000.0\n        ],\n        \"semantic_type\": \"\",\n        \"description\": \"\"\n      }\n    },\n    {\n      \"column\": \"Gasto_Mensual\",\n      \"properties\": {\n        \"dtype\": \"number\",\n        \"std\": 333820531.65981317,\n        \"min\": -935028.0,\n        \"max\": 946040000.0,\n        \"num_unique_values\": 8,\n        \"samples\": [\n          1773966.2287086344,\n          936583.0,\n          196993.0\n        ],\n        \"semantic_type\": \"\",\n        \"description\": \"\"\n      }\n    }\n  ]\n}",
              "type": "dataframe"
            },
            "text/html": [
              "\n",
              "  <div id=\"df-ed443178-b7ed-43e4-824d-2ae242e37f7d\" class=\"colab-df-container\">\n",
              "    <div>\n",
              "<style scoped>\n",
              "    .dataframe tbody tr th:only-of-type {\n",
              "        vertical-align: middle;\n",
              "    }\n",
              "\n",
              "    .dataframe tbody tr th {\n",
              "        vertical-align: top;\n",
              "    }\n",
              "\n",
              "    .dataframe thead th {\n",
              "        text-align: right;\n",
              "    }\n",
              "</style>\n",
              "<table border=\"1\" class=\"dataframe\">\n",
              "  <thead>\n",
              "    <tr style=\"text-align: right;\">\n",
              "      <th></th>\n",
              "      <th>Id_cliente</th>\n",
              "      <th>N°_Hijos</th>\n",
              "      <th>Cupo_TC</th>\n",
              "      <th>Gasto_Mensual</th>\n",
              "    </tr>\n",
              "  </thead>\n",
              "  <tbody>\n",
              "    <tr>\n",
              "      <th>count</th>\n",
              "      <td>196993</td>\n",
              "      <td>196993</td>\n",
              "      <td>196993</td>\n",
              "      <td>196993</td>\n",
              "    </tr>\n",
              "    <tr>\n",
              "      <th>mean</th>\n",
              "      <td>123507</td>\n",
              "      <td>2</td>\n",
              "      <td>1456341</td>\n",
              "      <td>1773966</td>\n",
              "    </tr>\n",
              "    <tr>\n",
              "      <th>std</th>\n",
              "      <td>57900</td>\n",
              "      <td>2</td>\n",
              "      <td>1280993</td>\n",
              "      <td>8569264</td>\n",
              "    </tr>\n",
              "    <tr>\n",
              "      <th>min</th>\n",
              "      <td>23215</td>\n",
              "      <td>0</td>\n",
              "      <td>-2000000</td>\n",
              "      <td>-935028</td>\n",
              "    </tr>\n",
              "    <tr>\n",
              "      <th>25%</th>\n",
              "      <td>73350</td>\n",
              "      <td>1</td>\n",
              "      <td>1000000</td>\n",
              "      <td>715227</td>\n",
              "    </tr>\n",
              "    <tr>\n",
              "      <th>50%</th>\n",
              "      <td>123496</td>\n",
              "      <td>2</td>\n",
              "      <td>1000000</td>\n",
              "      <td>936583</td>\n",
              "    </tr>\n",
              "    <tr>\n",
              "      <th>75%</th>\n",
              "      <td>173642</td>\n",
              "      <td>3</td>\n",
              "      <td>2000000</td>\n",
              "      <td>1958400</td>\n",
              "    </tr>\n",
              "    <tr>\n",
              "      <th>max</th>\n",
              "      <td>223788</td>\n",
              "      <td>5</td>\n",
              "      <td>100000000</td>\n",
              "      <td>946040000</td>\n",
              "    </tr>\n",
              "  </tbody>\n",
              "</table>\n",
              "</div>\n",
              "    <div class=\"colab-df-buttons\">\n",
              "\n",
              "  <div class=\"colab-df-container\">\n",
              "    <button class=\"colab-df-convert\" onclick=\"convertToInteractive('df-ed443178-b7ed-43e4-824d-2ae242e37f7d')\"\n",
              "            title=\"Convert this dataframe to an interactive table.\"\n",
              "            style=\"display:none;\">\n",
              "\n",
              "  <svg xmlns=\"http://www.w3.org/2000/svg\" height=\"24px\" viewBox=\"0 -960 960 960\">\n",
              "    <path d=\"M120-120v-720h720v720H120Zm60-500h600v-160H180v160Zm220 220h160v-160H400v160Zm0 220h160v-160H400v160ZM180-400h160v-160H180v160Zm440 0h160v-160H620v160ZM180-180h160v-160H180v160Zm440 0h160v-160H620v160Z\"/>\n",
              "  </svg>\n",
              "    </button>\n",
              "\n",
              "  <style>\n",
              "    .colab-df-container {\n",
              "      display:flex;\n",
              "      gap: 12px;\n",
              "    }\n",
              "\n",
              "    .colab-df-convert {\n",
              "      background-color: #E8F0FE;\n",
              "      border: none;\n",
              "      border-radius: 50%;\n",
              "      cursor: pointer;\n",
              "      display: none;\n",
              "      fill: #1967D2;\n",
              "      height: 32px;\n",
              "      padding: 0 0 0 0;\n",
              "      width: 32px;\n",
              "    }\n",
              "\n",
              "    .colab-df-convert:hover {\n",
              "      background-color: #E2EBFA;\n",
              "      box-shadow: 0px 1px 2px rgba(60, 64, 67, 0.3), 0px 1px 3px 1px rgba(60, 64, 67, 0.15);\n",
              "      fill: #174EA6;\n",
              "    }\n",
              "\n",
              "    .colab-df-buttons div {\n",
              "      margin-bottom: 4px;\n",
              "    }\n",
              "\n",
              "    [theme=dark] .colab-df-convert {\n",
              "      background-color: #3B4455;\n",
              "      fill: #D2E3FC;\n",
              "    }\n",
              "\n",
              "    [theme=dark] .colab-df-convert:hover {\n",
              "      background-color: #434B5C;\n",
              "      box-shadow: 0px 1px 3px 1px rgba(0, 0, 0, 0.15);\n",
              "      filter: drop-shadow(0px 1px 2px rgba(0, 0, 0, 0.3));\n",
              "      fill: #FFFFFF;\n",
              "    }\n",
              "  </style>\n",
              "\n",
              "    <script>\n",
              "      const buttonEl =\n",
              "        document.querySelector('#df-ed443178-b7ed-43e4-824d-2ae242e37f7d button.colab-df-convert');\n",
              "      buttonEl.style.display =\n",
              "        google.colab.kernel.accessAllowed ? 'block' : 'none';\n",
              "\n",
              "      async function convertToInteractive(key) {\n",
              "        const element = document.querySelector('#df-ed443178-b7ed-43e4-824d-2ae242e37f7d');\n",
              "        const dataTable =\n",
              "          await google.colab.kernel.invokeFunction('convertToInteractive',\n",
              "                                                    [key], {});\n",
              "        if (!dataTable) return;\n",
              "\n",
              "        const docLinkHtml = 'Like what you see? Visit the ' +\n",
              "          '<a target=\"_blank\" href=https://colab.research.google.com/notebooks/data_table.ipynb>data table notebook</a>'\n",
              "          + ' to learn more about interactive tables.';\n",
              "        element.innerHTML = '';\n",
              "        dataTable['output_type'] = 'display_data';\n",
              "        await google.colab.output.renderOutput(dataTable, element);\n",
              "        const docLink = document.createElement('div');\n",
              "        docLink.innerHTML = docLinkHtml;\n",
              "        element.appendChild(docLink);\n",
              "      }\n",
              "    </script>\n",
              "  </div>\n",
              "\n",
              "\n",
              "<div id=\"df-1d3f2ca8-d502-49bd-809b-ef3a8307fb34\">\n",
              "  <button class=\"colab-df-quickchart\" onclick=\"quickchart('df-1d3f2ca8-d502-49bd-809b-ef3a8307fb34')\"\n",
              "            title=\"Suggest charts\"\n",
              "            style=\"display:none;\">\n",
              "\n",
              "<svg xmlns=\"http://www.w3.org/2000/svg\" height=\"24px\"viewBox=\"0 0 24 24\"\n",
              "     width=\"24px\">\n",
              "    <g>\n",
              "        <path d=\"M19 3H5c-1.1 0-2 .9-2 2v14c0 1.1.9 2 2 2h14c1.1 0 2-.9 2-2V5c0-1.1-.9-2-2-2zM9 17H7v-7h2v7zm4 0h-2V7h2v10zm4 0h-2v-4h2v4z\"/>\n",
              "    </g>\n",
              "</svg>\n",
              "  </button>\n",
              "\n",
              "<style>\n",
              "  .colab-df-quickchart {\n",
              "      --bg-color: #E8F0FE;\n",
              "      --fill-color: #1967D2;\n",
              "      --hover-bg-color: #E2EBFA;\n",
              "      --hover-fill-color: #174EA6;\n",
              "      --disabled-fill-color: #AAA;\n",
              "      --disabled-bg-color: #DDD;\n",
              "  }\n",
              "\n",
              "  [theme=dark] .colab-df-quickchart {\n",
              "      --bg-color: #3B4455;\n",
              "      --fill-color: #D2E3FC;\n",
              "      --hover-bg-color: #434B5C;\n",
              "      --hover-fill-color: #FFFFFF;\n",
              "      --disabled-bg-color: #3B4455;\n",
              "      --disabled-fill-color: #666;\n",
              "  }\n",
              "\n",
              "  .colab-df-quickchart {\n",
              "    background-color: var(--bg-color);\n",
              "    border: none;\n",
              "    border-radius: 50%;\n",
              "    cursor: pointer;\n",
              "    display: none;\n",
              "    fill: var(--fill-color);\n",
              "    height: 32px;\n",
              "    padding: 0;\n",
              "    width: 32px;\n",
              "  }\n",
              "\n",
              "  .colab-df-quickchart:hover {\n",
              "    background-color: var(--hover-bg-color);\n",
              "    box-shadow: 0 1px 2px rgba(60, 64, 67, 0.3), 0 1px 3px 1px rgba(60, 64, 67, 0.15);\n",
              "    fill: var(--button-hover-fill-color);\n",
              "  }\n",
              "\n",
              "  .colab-df-quickchart-complete:disabled,\n",
              "  .colab-df-quickchart-complete:disabled:hover {\n",
              "    background-color: var(--disabled-bg-color);\n",
              "    fill: var(--disabled-fill-color);\n",
              "    box-shadow: none;\n",
              "  }\n",
              "\n",
              "  .colab-df-spinner {\n",
              "    border: 2px solid var(--fill-color);\n",
              "    border-color: transparent;\n",
              "    border-bottom-color: var(--fill-color);\n",
              "    animation:\n",
              "      spin 1s steps(1) infinite;\n",
              "  }\n",
              "\n",
              "  @keyframes spin {\n",
              "    0% {\n",
              "      border-color: transparent;\n",
              "      border-bottom-color: var(--fill-color);\n",
              "      border-left-color: var(--fill-color);\n",
              "    }\n",
              "    20% {\n",
              "      border-color: transparent;\n",
              "      border-left-color: var(--fill-color);\n",
              "      border-top-color: var(--fill-color);\n",
              "    }\n",
              "    30% {\n",
              "      border-color: transparent;\n",
              "      border-left-color: var(--fill-color);\n",
              "      border-top-color: var(--fill-color);\n",
              "      border-right-color: var(--fill-color);\n",
              "    }\n",
              "    40% {\n",
              "      border-color: transparent;\n",
              "      border-right-color: var(--fill-color);\n",
              "      border-top-color: var(--fill-color);\n",
              "    }\n",
              "    60% {\n",
              "      border-color: transparent;\n",
              "      border-right-color: var(--fill-color);\n",
              "    }\n",
              "    80% {\n",
              "      border-color: transparent;\n",
              "      border-right-color: var(--fill-color);\n",
              "      border-bottom-color: var(--fill-color);\n",
              "    }\n",
              "    90% {\n",
              "      border-color: transparent;\n",
              "      border-bottom-color: var(--fill-color);\n",
              "    }\n",
              "  }\n",
              "</style>\n",
              "\n",
              "  <script>\n",
              "    async function quickchart(key) {\n",
              "      const quickchartButtonEl =\n",
              "        document.querySelector('#' + key + ' button');\n",
              "      quickchartButtonEl.disabled = true;  // To prevent multiple clicks.\n",
              "      quickchartButtonEl.classList.add('colab-df-spinner');\n",
              "      try {\n",
              "        const charts = await google.colab.kernel.invokeFunction(\n",
              "            'suggestCharts', [key], {});\n",
              "      } catch (error) {\n",
              "        console.error('Error during call to suggestCharts:', error);\n",
              "      }\n",
              "      quickchartButtonEl.classList.remove('colab-df-spinner');\n",
              "      quickchartButtonEl.classList.add('colab-df-quickchart-complete');\n",
              "    }\n",
              "    (() => {\n",
              "      let quickchartButtonEl =\n",
              "        document.querySelector('#df-1d3f2ca8-d502-49bd-809b-ef3a8307fb34 button');\n",
              "      quickchartButtonEl.style.display =\n",
              "        google.colab.kernel.accessAllowed ? 'block' : 'none';\n",
              "    })();\n",
              "  </script>\n",
              "</div>\n",
              "\n",
              "    </div>\n",
              "  </div>\n"
            ],
            "text/plain": [
              "       Id_cliente  N°_Hijos   Cupo_TC  Gasto_Mensual\n",
              "count      196993    196993    196993         196993\n",
              "mean       123507         2   1456341        1773966\n",
              "std         57900         2   1280993        8569264\n",
              "min         23215         0  -2000000        -935028\n",
              "25%         73350         1   1000000         715227\n",
              "50%        123496         2   1000000         936583\n",
              "75%        173642         3   2000000        1958400\n",
              "max        223788         5 100000000      946040000"
            ]
          },
          "execution_count": 60,
          "metadata": {},
          "output_type": "execute_result"
        }
      ],
      "source": [
        "# Evitar notación científica y mostrar números sin decimales\n",
        "pd.options.display.float_format = '{:.0f}'.format\n",
        "df.describe()"
      ]
    },
    {
      "cell_type": "markdown",
      "metadata": {
        "id": "Bqyrqiy14OD6"
      },
      "source": [
        "**Se hace un zoom al grafico para ver los datos del bigote superior:**"
      ]
    },
    {
      "cell_type": "code",
      "execution_count": 61,
      "metadata": {
        "colab": {
          "base_uri": "https://localhost:8080/",
          "height": 375
        },
        "id": "GKYnEwsw4OD7",
        "outputId": "9fa9c5c8-8040-450c-dce6-675d32e33e48"
      },
      "outputs": [
        {
          "data": {
            "image/png": "[encoded data removed]",
            "text/plain": [
              "<Figure size 1200x400 with 3 Axes>"
            ]
          },
          "metadata": {},
          "output_type": "display_data"
        }
      ],
      "source": [
        "# Crea una figura con tres subplots en una fila, uno por cada columna a graficar\n",
        "# Se ha cambiado de (1, 2) a (1, 3) para tener 3 subplots\n",
        "fig, axes = plt.subplots(1, 3, figsize=(12, 4))  # 1 fila, 3 columnas\n",
        "\n",
        "# Crea un gráfico de caja para cada columna en su respectivo subplot\n",
        "for i, column in enumerate(columnas.columns):\n",
        "    ax = axes[i]\n",
        "    ax.boxplot(columnas[column])  # Gráfico de boxplot con color\n",
        "    ax.set_xlabel(column)  # Título del eje x con el nombre de la columna\n",
        "    ax.set_ylabel(\"Frecuencia\")  # Título del eje Y\n",
        "    ax.set_title(f\"Boxplot de {column}\")\n",
        "    # Oculta el eje x\n",
        "    ax.get_xaxis().set_visible(False)\n",
        "    # Ajustar el límite del eje Y para evitar que los outliers distorsionen el gráfico,\n",
        "    # ampliando un poco los límites para no recortar demasiado.\n",
        "    y_min, y_max = columnas[column].quantile(0.05), columnas[column].quantile(0.95)\n",
        "    ax.set_ylim(y_min - 0.1*(y_max - y_min), y_max + 0.1*(y_max - y_min))\n",
        "\n",
        "# Ajusta la disposición y muestra los gráficos uno al lado del otro\n",
        "plt.tight_layout()\n",
        "plt.show()\n",
        "\n"
      ]
    },
    {
      "cell_type": "code",
      "execution_count": 62,
      "metadata": {
        "colab": {
          "base_uri": "https://localhost:8080/"
        },
        "id": "eiPOpH2n4OD8",
        "outputId": "11795813-0058-455e-fb8b-361a802c862d"
      },
      "outputs": [
        {
          "name": "stdout",
          "output_type": "stream",
          "text": [
            "Cupo negativo: 32\n",
            "Cupo mayor a 3,5 millones: 4424\n"
          ]
        }
      ],
      "source": [
        "print(\"Cupo negativo:\",len(df[df['Cupo_TC']<0]))\n",
        "print(\"Cupo mayor a 3,5 millones:\",len(df[df['Cupo_TC']>3500000]))"
      ]
    },
    {
      "cell_type": "code",
      "execution_count": 63,
      "metadata": {
        "colab": {
          "base_uri": "https://localhost:8080/"
        },
        "id": "c9hUMztm4OD8",
        "outputId": "6ae6b46a-a817-40ed-e311-f1fce036b4e3"
      },
      "outputs": [
        {
          "name": "stdout",
          "output_type": "stream",
          "text": [
            "Gasto negativo: 72\n",
            "Gasto mayor a 4 millones: 24024\n"
          ]
        }
      ],
      "source": [
        "print(\"Gasto negativo:\",len(df[df['Gasto_Mensual']<0]))\n",
        "print(\"Gasto mayor a 4 millones:\",len(df[df['Gasto_Mensual']>4000000]))"
      ]
    },
    {
      "cell_type": "markdown",
      "metadata": {
        "id": "UwWXwMZy4OD9"
      },
      "source": [
        "---"
      ]
    },
    {
      "cell_type": "code",
      "execution_count": 64,
      "metadata": {
        "id": "NSTjWaPvXw6a"
      },
      "outputs": [],
      "source": [
        "from scipy import stats"
      ]
    },
    {
      "cell_type": "code",
      "execution_count": 65,
      "metadata": {
        "colab": {
          "base_uri": "https://localhost:8080/"
        },
        "id": "3q_rWqkdXzaT",
        "outputId": "cd42575d-5cc5-4e98-ecbc-e37d12268951"
      },
      "outputs": [
        {
          "name": "stdout",
          "output_type": "stream",
          "text": [
            "Recuento de valores atípicos en Cupo_TC: 32\n",
            "Recuento de valores atípicos en Gasto_Mensual: 40\n"
          ]
        }
      ],
      "source": [
        "# Se define la cantidad de desviaciones estandar\n",
        "corte = 3\n",
        "# Calcula el Z-Score para 'Cupo_TC'\n",
        "z_Cupo_TC = stats.zscore(df['Cupo_TC'])\n",
        "outliers_Cupo_TC = (abs(z_Cupo_TC) > corte)\n",
        "# Imprime el recuento de valores atípicos en 'Cupo_TC'\n",
        "print(f\"Recuento de valores atípicos en Cupo_TC: {outliers_Cupo_TC.sum()}\")\n",
        "# Calcula el Z-Score para 'Gasto_Mensual'\n",
        "z_Gasto_Mensual = stats.zscore(df['Gasto_Mensual'])\n",
        "outliers_Gasto_Mensual = (abs(z_Gasto_Mensual) > corte)\n",
        "# Imprime el recuento de valores atípicos en 'Gasto_Mensual'\n",
        "print(f\"Recuento de valores atípicos en Gasto_Mensual: {outliers_Gasto_Mensual.sum()}\")\n"
      ]
    },
    {
      "cell_type": "code",
      "execution_count": 66,
      "metadata": {
        "id": "m68r0dc7AUV8"
      },
      "outputs": [],
      "source": [
        "# Elimina las filas con valores atípicos\n",
        "df = df[~outliers_Cupo_TC]\n",
        "df = df[~outliers_Gasto_Mensual]"
      ]
    },
    {
      "cell_type": "markdown",
      "metadata": {
        "id": "Wwi-eVfH4OEA"
      },
      "source": [
        "**Se eliminaron los 72 datos atipicos que eran mas extremos, eso está correcto. Ahora quedan otros datos que no son realmente atipicos que componen un grupo de gente con mayores recursos**"
      ]
    },
    {
      "cell_type": "code",
      "execution_count": 67,
      "metadata": {
        "colab": {
          "base_uri": "https://localhost:8080/",
          "height": 376
        },
        "id": "G4QB2Pw-ilRq",
        "outputId": "526b1ef4-771e-409d-835b-323ea055e408"
      },
      "outputs": [
        {
          "data": {
            "image/png": "[encoded data removed]",
            "text/plain": [
              "<Figure size 1200x400 with 2 Axes>"
            ]
          },
          "metadata": {},
          "output_type": "display_data"
        }
      ],
      "source": [
        "# Selecciona las columnas \"Cupo_TC\" e \"Gasto_Mensual\" de tu DataFrame\n",
        "columnas = df[[\"Cupo_TC\", \"Gasto_Mensual\"]]\n",
        "\n",
        "# Crea una figura con dos subplots en una fila\n",
        "fig, axes = plt.subplots(1, 2, figsize=(12, 4))  # 1 fila, 2 columnas\n",
        "# Crea un gráfico de caja para cada columna en su respectivo subplot\n",
        "for i, column in enumerate(columnas.columns):\n",
        "    ax = axes[i]\n",
        "    ax.boxplot(columnas[column])  # Gráfico de boxplot con color\n",
        "    ax.set_xlabel(column)  # Título del eje x con el nombre de la columna\n",
        "    ax.set_ylabel(\"Frecuencia\")  # Título del eje Y\n",
        "    ax.set_title(f\"Boxplot de {column}\")\n",
        "    # Oculta el eje x\n",
        "    ax.get_xaxis().set_visible(False)\n",
        "# Ajusta la disposición y muestra los gráficos uno al lado del otro\n",
        "plt.tight_layout()\n",
        "plt.show()"
      ]
    },
    {
      "cell_type": "code",
      "execution_count": 68,
      "metadata": {
        "colab": {
          "base_uri": "https://localhost:8080/"
        },
        "id": "VVaSBBhL4OEB",
        "outputId": "3bbe1d3b-03ef-4107-b914-3ae1f8f78ccf"
      },
      "outputs": [
        {
          "name": "stdout",
          "output_type": "stream",
          "text": [
            "Cupo negativo: 32\n",
            "Cupo mayor a 3,5 millones: 4392\n"
          ]
        }
      ],
      "source": [
        "print(\"Cupo negativo:\",len(df[df['Cupo_TC']<0]))\n",
        "print(\"Cupo mayor a 3,5 millones:\",len(df[df['Cupo_TC']>3500000]))"
      ]
    },
    {
      "cell_type": "code",
      "execution_count": 69,
      "metadata": {
        "colab": {
          "base_uri": "https://localhost:8080/"
        },
        "id": "KY7VClv14OEC",
        "outputId": "c5d6985b-7188-446c-ed57-30bb77740cb4"
      },
      "outputs": [
        {
          "name": "stdout",
          "output_type": "stream",
          "text": [
            "Gasto negativo: 72\n",
            "Gasto mayor a 4 millones: 23984\n"
          ]
        }
      ],
      "source": [
        "print(\"Gasto negativo:\",len(df[df['Gasto_Mensual']<0]))\n",
        "print(\"Gasto mayor a 4 millones:\",len(df[df['Gasto_Mensual']>4000000]))"
      ]
    },
    {
      "cell_type": "code",
      "execution_count": 70,
      "metadata": {
        "colab": {
          "base_uri": "https://localhost:8080/",
          "height": 376
        },
        "id": "STxvdLbW4OED",
        "outputId": "39f4135e-635d-4b8a-866a-5d318c6cbfcc"
      },
      "outputs": [
        {
          "data": {
            "image/png": "[encoded data removed]",
            "text/plain": [
              "<Figure size 1200x400 with 2 Axes>"
            ]
          },
          "metadata": {},
          "output_type": "display_data"
        }
      ],
      "source": [
        "# Selecciona las columnas \"Cupo_TC\" e \"Gasto_Mensual\" de tu DataFrame\n",
        "columnas = df[[\"Cupo_TC\", \"Gasto_Mensual\"]]\n",
        "\n",
        "# Crea una figura con dos subplots en una fila\n",
        "fig, axes = plt.subplots(1, 2, figsize=(12, 4))  # 1 fila, 2 columnas\n",
        "# Crea un gráfico de caja para cada columna en su respectivo subplot\n",
        "for i, column in enumerate(columnas.columns):\n",
        "    ax = axes[i]\n",
        "    ax.boxplot(columnas[column])  # Gráfico de boxplot con color\n",
        "    ax.set_xlabel(column)  # Título del eje x con el nombre de la columna\n",
        "    ax.set_ylabel(\"Frecuencia\")  # Título del eje Y\n",
        "    ax.set_title(f\"Boxplot de {column}\")\n",
        "    # Oculta el eje x\n",
        "    ax.get_xaxis().set_visible(False)\n",
        "# Ajusta la disposición y muestra los gráficos uno al lado del otro\n",
        "plt.tight_layout()\n",
        "plt.show()"
      ]
    },
    {
      "cell_type": "markdown",
      "metadata": {
        "id": "C1SV3KRr4OEE"
      },
      "source": [
        "**Solo le falta eliminar los valores negativos**"
      ]
    },
    {
      "cell_type": "markdown",
      "metadata": {
        "id": "BbZmq8bvCD6T"
      },
      "source": [
        "Aun existen datos ilógicos en el dataset, los cuales hay que filtrar de forma manual: tomaremos el primer cuartil debido a que los datos fuera de la caja estan fuera de la mayor concentración de los datos."
      ]
    },
    {
      "cell_type": "code",
      "execution_count": 71,
      "metadata": {
        "colab": {
          "base_uri": "https://localhost:8080/"
        },
        "id": "M-YFqjd_6mg6",
        "outputId": "e49b17f3-dd0e-48e5-e31c-5a9eab91bf04"
      },
      "outputs": [
        {
          "data": {
            "text/plain": [
              "119369"
            ]
          },
          "execution_count": 71,
          "metadata": {},
          "output_type": "execute_result"
        }
      ],
      "source": [
        "# Montos bajo el valor de q1\n",
        "len(df[df['Cupo_TC'] <= 1000000])"
      ]
    },
    {
      "cell_type": "code",
      "execution_count": 72,
      "metadata": {
        "colab": {
          "base_uri": "https://localhost:8080/"
        },
        "id": "oIwxp0NmDcT8",
        "outputId": "1b747c51-d2ae-45e2-f59c-2f400f852649"
      },
      "outputs": [
        {
          "data": {
            "text/plain": [
              "49240"
            ]
          },
          "execution_count": 72,
          "metadata": {},
          "output_type": "execute_result"
        }
      ],
      "source": [
        "# Montos bajo el valor de q1\n",
        "len(df[df['Gasto_Mensual'] <= 715227])"
      ]
    },
    {
      "cell_type": "markdown",
      "metadata": {
        "id": "UyNxe-s4FrlS"
      },
      "source": [
        "Son muchos datos como para eliminar, por lo que se opta por imputar."
      ]
    },
    {
      "cell_type": "code",
      "execution_count": 73,
      "metadata": {
        "colab": {
          "base_uri": "https://localhost:8080/"
        },
        "id": "TKMp9O7wFsqj",
        "outputId": "901b07f2-b301-41c0-f735-021e0d4c4966"
      },
      "outputs": [
        {
          "data": {
            "text/plain": [
              "1000000"
            ]
          },
          "execution_count": 73,
          "metadata": {},
          "output_type": "execute_result"
        }
      ],
      "source": [
        "df[\"Cupo_TC\"].mode().iloc[0]"
      ]
    },
    {
      "cell_type": "code",
      "execution_count": 74,
      "metadata": {
        "colab": {
          "base_uri": "https://localhost:8080/"
        },
        "id": "VLCmmgO1HGRa",
        "outputId": "513517b6-f2b4-4e08-d066-6da85f91408b"
      },
      "outputs": [
        {
          "data": {
            "text/plain": [
              "2499900"
            ]
          },
          "execution_count": 74,
          "metadata": {},
          "output_type": "execute_result"
        }
      ],
      "source": [
        "df[\"Gasto_Mensual\"].mode().iloc[0]"
      ]
    },
    {
      "cell_type": "code",
      "execution_count": 75,
      "metadata": {
        "id": "lFFMVlSbKmh1"
      },
      "outputs": [],
      "source": [
        "# Calcular la moda de Cupo_TC\n",
        "moda_Cupo_TC = df['Cupo_TC'].mode().iloc[0]\n",
        "\n",
        "# Reemplazar los valores con la moda\n",
        "df.loc[df['Cupo_TC'] <= 1000000, 'Cupo_TC'] = moda_Cupo_TC"
      ]
    },
    {
      "cell_type": "code",
      "execution_count": 76,
      "metadata": {
        "id": "Xeh9eytPHnKu"
      },
      "outputs": [],
      "source": [
        "# Calcular la moda de Gasto_Mensual\n",
        "moda_Gasto_Mensual = df['Gasto_Mensual'].mode().iloc[0]\n",
        "\n",
        "# Reemplazar los valores con la moda\n",
        "df.loc[df['Gasto_Mensual'] <= 715227, 'Gasto_Mensual'] = moda_Gasto_Mensual"
      ]
    },
    {
      "cell_type": "code",
      "execution_count": 77,
      "metadata": {
        "colab": {
          "base_uri": "https://localhost:8080/",
          "height": 376
        },
        "id": "_-1cdQv6Igmu",
        "outputId": "70632444-3d01-4924-9f86-43de6e421017"
      },
      "outputs": [
        {
          "data": {
            "image/png": "[encoded data removed]",
            "text/plain": [
              "<Figure size 1200x400 with 2 Axes>"
            ]
          },
          "metadata": {},
          "output_type": "display_data"
        }
      ],
      "source": [
        "# Selecciona las columnas \"Cupo_TC\" e \"Gasto_Mensual\" de tu DataFrame\n",
        "columnas = df[[\"Cupo_TC\", \"Gasto_Mensual\"]]\n",
        "\n",
        "# Crea una figura con dos subplots en una fila\n",
        "fig, axes = plt.subplots(1, 2, figsize=(12, 4))  # 1 fila, 2 columnas\n",
        "# Crea un gráfico de caja para cada columna en su respectivo subplot\n",
        "for i, column in enumerate(columnas.columns):\n",
        "    ax = axes[i]\n",
        "    ax.boxplot(columnas[column])  # Gráfico de boxplot con color\n",
        "    ax.set_xlabel(column)  # Título del eje x con el nombre de la columna\n",
        "    ax.set_ylabel(\"Frecuencia\")  # Título del eje Y\n",
        "    ax.set_title(f\"Boxplot de {column}\")\n",
        "    # Oculta el eje x\n",
        "    ax.get_xaxis().set_visible(False)\n",
        "# Ajusta la disposición y muestra los gráficos uno al lado del otro\n",
        "plt.tight_layout()\n",
        "plt.show()"
      ]
    },
    {
      "cell_type": "markdown",
      "metadata": {
        "id": "HSIvkem_Ox-U"
      },
      "source": [
        "# **4. ANÁLISIS DE DATOS CORREGIDOS**"
      ]
    },
    {
      "cell_type": "code",
      "execution_count": 79,
      "metadata": {
        "colab": {
          "base_uri": "https://localhost:8080/",
          "height": 300
        },
        "id": "8wwyWQcwR7Pu",
        "outputId": "0cd13d12-054c-4b9b-8572-859f53e57d9b"
      },
      "outputs": [
        {
          "data": {
            "application/vnd.google.colaboratory.intrinsic+json": {
              "summary": "{\n  \"name\": \"resumen_estadistico\",\n  \"rows\": 8,\n  \"fields\": [\n    {\n      \"column\": \"Id_cliente\",\n      \"properties\": {\n        \"dtype\": \"number\",\n        \"std\": 70539.07531018555,\n        \"min\": 23215.0,\n        \"max\": 223788.0,\n        \"num_unique_values\": 8,\n        \"samples\": [\n          123507.68792053666,\n          123496.0,\n          196921.0\n        ],\n        \"semantic_type\": \"\",\n        \"description\": \"\"\n      }\n    },\n    {\n      \"column\": \"N\\u00b0_Hijos\",\n      \"properties\": {\n        \"dtype\": \"number\",\n        \"std\": 69621.35825210456,\n        \"min\": 0.0,\n        \"max\": 196921.0,\n        \"num_unique_values\": 8,\n        \"samples\": [\n          1.874990478415202,\n          2.0,\n          196921.0\n        ],\n        \"semantic_type\": \"\",\n        \"description\": \"\"\n      }\n    },\n    {\n      \"column\": \"Cupo_TC\",\n      \"properties\": {\n        \"dtype\": \"string\",\n        \"num_unique_values\": 6,\n        \"samples\": [\n          \"196921\",\n          \"1509930\",\n          \"5000000\"\n        ],\n        \"semantic_type\": \"\",\n        \"description\": \"\"\n      }\n    },\n    {\n      \"column\": \"Gasto_Mensual\",\n      \"properties\": {\n        \"dtype\": \"string\",\n        \"num_unique_values\": 8,\n        \"samples\": [\n          \"2178804\",\n          \"1957710\",\n          \"196921\"\n        ],\n        \"semantic_type\": \"\",\n        \"description\": \"\"\n      }\n    }\n  ]\n}",
              "type": "dataframe",
              "variable_name": "resumen_estadistico"
            },
            "text/html": [
              "\n",
              "  <div id=\"df-ac053864-a93c-440d-a42e-8b86c11e91ba\" class=\"colab-df-container\">\n",
              "    <div>\n",
              "<style scoped>\n",
              "    .dataframe tbody tr th:only-of-type {\n",
              "        vertical-align: middle;\n",
              "    }\n",
              "\n",
              "    .dataframe tbody tr th {\n",
              "        vertical-align: top;\n",
              "    }\n",
              "\n",
              "    .dataframe thead th {\n",
              "        text-align: right;\n",
              "    }\n",
              "</style>\n",
              "<table border=\"1\" class=\"dataframe\">\n",
              "  <thead>\n",
              "    <tr style=\"text-align: right;\">\n",
              "      <th></th>\n",
              "      <th>Id_cliente</th>\n",
              "      <th>N°_Hijos</th>\n",
              "      <th>Cupo_TC</th>\n",
              "      <th>Gasto_Mensual</th>\n",
              "    </tr>\n",
              "  </thead>\n",
              "  <tbody>\n",
              "    <tr>\n",
              "      <th>count</th>\n",
              "      <td>196921</td>\n",
              "      <td>196921</td>\n",
              "      <td>196921</td>\n",
              "      <td>196921</td>\n",
              "    </tr>\n",
              "    <tr>\n",
              "      <th>mean</th>\n",
              "      <td>123508</td>\n",
              "      <td>2</td>\n",
              "      <td>1509930</td>\n",
              "      <td>2178804</td>\n",
              "    </tr>\n",
              "    <tr>\n",
              "      <th>std</th>\n",
              "      <td>57900</td>\n",
              "      <td>2</td>\n",
              "      <td>812465</td>\n",
              "      <td>1550893</td>\n",
              "    </tr>\n",
              "    <tr>\n",
              "      <th>min</th>\n",
              "      <td>23215</td>\n",
              "      <td>0</td>\n",
              "      <td>1000000</td>\n",
              "      <td>715304</td>\n",
              "    </tr>\n",
              "    <tr>\n",
              "      <th>25%</th>\n",
              "      <td>73350</td>\n",
              "      <td>1</td>\n",
              "      <td>1000000</td>\n",
              "      <td>936583</td>\n",
              "    </tr>\n",
              "    <tr>\n",
              "      <th>50%</th>\n",
              "      <td>123496</td>\n",
              "      <td>2</td>\n",
              "      <td>1000000</td>\n",
              "      <td>1957710</td>\n",
              "    </tr>\n",
              "    <tr>\n",
              "      <th>75%</th>\n",
              "      <td>173642</td>\n",
              "      <td>3</td>\n",
              "      <td>2000000</td>\n",
              "      <td>2499900</td>\n",
              "    </tr>\n",
              "    <tr>\n",
              "      <th>max</th>\n",
              "      <td>223788</td>\n",
              "      <td>5</td>\n",
              "      <td>5000000</td>\n",
              "      <td>7298120</td>\n",
              "    </tr>\n",
              "  </tbody>\n",
              "</table>\n",
              "</div>\n",
              "    <div class=\"colab-df-buttons\">\n",
              "\n",
              "  <div class=\"colab-df-container\">\n",
              "    <button class=\"colab-df-convert\" onclick=\"convertToInteractive('df-ac053864-a93c-440d-a42e-8b86c11e91ba')\"\n",
              "            title=\"Convert this dataframe to an interactive table.\"\n",
              "            style=\"display:none;\">\n",
              "\n",
              "  <svg xmlns=\"http://www.w3.org/2000/svg\" height=\"24px\" viewBox=\"0 -960 960 960\">\n",
              "    <path d=\"M120-120v-720h720v720H120Zm60-500h600v-160H180v160Zm220 220h160v-160H400v160Zm0 220h160v-160H400v160ZM180-400h160v-160H180v160Zm440 0h160v-160H620v160ZM180-180h160v-160H180v160Zm440 0h160v-160H620v160Z\"/>\n",
              "  </svg>\n",
              "    </button>\n",
              "\n",
              "  <style>\n",
              "    .colab-df-container {\n",
              "      display:flex;\n",
              "      gap: 12px;\n",
              "    }\n",
              "\n",
              "    .colab-df-convert {\n",
              "      background-color: #E8F0FE;\n",
              "      border: none;\n",
              "      border-radius: 50%;\n",
              "      cursor: pointer;\n",
              "      display: none;\n",
              "      fill: #1967D2;\n",
              "      height: 32px;\n",
              "      padding: 0 0 0 0;\n",
              "      width: 32px;\n",
              "    }\n",
              "\n",
              "    .colab-df-convert:hover {\n",
              "      background-color: #E2EBFA;\n",
              "      box-shadow: 0px 1px 2px rgba(60, 64, 67, 0.3), 0px 1px 3px 1px rgba(60, 64, 67, 0.15);\n",
              "      fill: #174EA6;\n",
              "    }\n",
              "\n",
              "    .colab-df-buttons div {\n",
              "      margin-bottom: 4px;\n",
              "    }\n",
              "\n",
              "    [theme=dark] .colab-df-convert {\n",
              "      background-color: #3B4455;\n",
              "      fill: #D2E3FC;\n",
              "    }\n",
              "\n",
              "    [theme=dark] .colab-df-convert:hover {\n",
              "      background-color: #434B5C;\n",
              "      box-shadow: 0px 1px 3px 1px rgba(0, 0, 0, 0.15);\n",
              "      filter: drop-shadow(0px 1px 2px rgba(0, 0, 0, 0.3));\n",
              "      fill: #FFFFFF;\n",
              "    }\n",
              "  </style>\n",
              "\n",
              "    <script>\n",
              "      const buttonEl =\n",
              "        document.querySelector('#df-ac053864-a93c-440d-a42e-8b86c11e91ba button.colab-df-convert');\n",
              "      buttonEl.style.display =\n",
              "        google.colab.kernel.accessAllowed ? 'block' : 'none';\n",
              "\n",
              "      async function convertToInteractive(key) {\n",
              "        const element = document.querySelector('#df-ac053864-a93c-440d-a42e-8b86c11e91ba');\n",
              "        const dataTable =\n",
              "          await google.colab.kernel.invokeFunction('convertToInteractive',\n",
              "                                                    [key], {});\n",
              "        if (!dataTable) return;\n",
              "\n",
              "        const docLinkHtml = 'Like what you see? Visit the ' +\n",
              "          '<a target=\"_blank\" href=https://colab.research.google.com/notebooks/data_table.ipynb>data table notebook</a>'\n",
              "          + ' to learn more about interactive tables.';\n",
              "        element.innerHTML = '';\n",
              "        dataTable['output_type'] = 'display_data';\n",
              "        await google.colab.output.renderOutput(dataTable, element);\n",
              "        const docLink = document.createElement('div');\n",
              "        docLink.innerHTML = docLinkHtml;\n",
              "        element.appendChild(docLink);\n",
              "      }\n",
              "    </script>\n",
              "  </div>\n",
              "\n",
              "\n",
              "<div id=\"df-e89a5b04-3129-4972-8279-60e02c1099b4\">\n",
              "  <button class=\"colab-df-quickchart\" onclick=\"quickchart('df-e89a5b04-3129-4972-8279-60e02c1099b4')\"\n",
              "            title=\"Suggest charts\"\n",
              "            style=\"display:none;\">\n",
              "\n",
              "<svg xmlns=\"http://www.w3.org/2000/svg\" height=\"24px\"viewBox=\"0 0 24 24\"\n",
              "     width=\"24px\">\n",
              "    <g>\n",
              "        <path d=\"M19 3H5c-1.1 0-2 .9-2 2v14c0 1.1.9 2 2 2h14c1.1 0 2-.9 2-2V5c0-1.1-.9-2-2-2zM9 17H7v-7h2v7zm4 0h-2V7h2v10zm4 0h-2v-4h2v4z\"/>\n",
              "    </g>\n",
              "</svg>\n",
              "  </button>\n",
              "\n",
              "<style>\n",
              "  .colab-df-quickchart {\n",
              "      --bg-color: #E8F0FE;\n",
              "      --fill-color: #1967D2;\n",
              "      --hover-bg-color: #E2EBFA;\n",
              "      --hover-fill-color: #174EA6;\n",
              "      --disabled-fill-color: #AAA;\n",
              "      --disabled-bg-color: #DDD;\n",
              "  }\n",
              "\n",
              "  [theme=dark] .colab-df-quickchart {\n",
              "      --bg-color: #3B4455;\n",
              "      --fill-color: #D2E3FC;\n",
              "      --hover-bg-color: #434B5C;\n",
              "      --hover-fill-color: #FFFFFF;\n",
              "      --disabled-bg-color: #3B4455;\n",
              "      --disabled-fill-color: #666;\n",
              "  }\n",
              "\n",
              "  .colab-df-quickchart {\n",
              "    background-color: var(--bg-color);\n",
              "    border: none;\n",
              "    border-radius: 50%;\n",
              "    cursor: pointer;\n",
              "    display: none;\n",
              "    fill: var(--fill-color);\n",
              "    height: 32px;\n",
              "    padding: 0;\n",
              "    width: 32px;\n",
              "  }\n",
              "\n",
              "  .colab-df-quickchart:hover {\n",
              "    background-color: var(--hover-bg-color);\n",
              "    box-shadow: 0 1px 2px rgba(60, 64, 67, 0.3), 0 1px 3px 1px rgba(60, 64, 67, 0.15);\n",
              "    fill: var(--button-hover-fill-color);\n",
              "  }\n",
              "\n",
              "  .colab-df-quickchart-complete:disabled,\n",
              "  .colab-df-quickchart-complete:disabled:hover {\n",
              "    background-color: var(--disabled-bg-color);\n",
              "    fill: var(--disabled-fill-color);\n",
              "    box-shadow: none;\n",
              "  }\n",
              "\n",
              "  .colab-df-spinner {\n",
              "    border: 2px solid var(--fill-color);\n",
              "    border-color: transparent;\n",
              "    border-bottom-color: var(--fill-color);\n",
              "    animation:\n",
              "      spin 1s steps(1) infinite;\n",
              "  }\n",
              "\n",
              "  @keyframes spin {\n",
              "    0% {\n",
              "      border-color: transparent;\n",
              "      border-bottom-color: var(--fill-color);\n",
              "      border-left-color: var(--fill-color);\n",
              "    }\n",
              "    20% {\n",
              "      border-color: transparent;\n",
              "      border-left-color: var(--fill-color);\n",
              "      border-top-color: var(--fill-color);\n",
              "    }\n",
              "    30% {\n",
              "      border-color: transparent;\n",
              "      border-left-color: var(--fill-color);\n",
              "      border-top-color: var(--fill-color);\n",
              "      border-right-color: var(--fill-color);\n",
              "    }\n",
              "    40% {\n",
              "      border-color: transparent;\n",
              "      border-right-color: var(--fill-color);\n",
              "      border-top-color: var(--fill-color);\n",
              "    }\n",
              "    60% {\n",
              "      border-color: transparent;\n",
              "      border-right-color: var(--fill-color);\n",
              "    }\n",
              "    80% {\n",
              "      border-color: transparent;\n",
              "      border-right-color: var(--fill-color);\n",
              "      border-bottom-color: var(--fill-color);\n",
              "    }\n",
              "    90% {\n",
              "      border-color: transparent;\n",
              "      border-bottom-color: var(--fill-color);\n",
              "    }\n",
              "  }\n",
              "</style>\n",
              "\n",
              "  <script>\n",
              "    async function quickchart(key) {\n",
              "      const quickchartButtonEl =\n",
              "        document.querySelector('#' + key + ' button');\n",
              "      quickchartButtonEl.disabled = true;  // To prevent multiple clicks.\n",
              "      quickchartButtonEl.classList.add('colab-df-spinner');\n",
              "      try {\n",
              "        const charts = await google.colab.kernel.invokeFunction(\n",
              "            'suggestCharts', [key], {});\n",
              "      } catch (error) {\n",
              "        console.error('Error during call to suggestCharts:', error);\n",
              "      }\n",
              "      quickchartButtonEl.classList.remove('colab-df-spinner');\n",
              "      quickchartButtonEl.classList.add('colab-df-quickchart-complete');\n",
              "    }\n",
              "    (() => {\n",
              "      let quickchartButtonEl =\n",
              "        document.querySelector('#df-e89a5b04-3129-4972-8279-60e02c1099b4 button');\n",
              "      quickchartButtonEl.style.display =\n",
              "        google.colab.kernel.accessAllowed ? 'block' : 'none';\n",
              "    })();\n",
              "  </script>\n",
              "</div>\n",
              "\n",
              "  <div id=\"id_588a3f52-0390-4bdb-b3be-fd47970a8335\">\n",
              "    <style>\n",
              "      .colab-df-generate {\n",
              "        background-color: #E8F0FE;\n",
              "        border: none;\n",
              "        border-radius: 50%;\n",
              "        cursor: pointer;\n",
              "        display: none;\n",
              "        fill: #1967D2;\n",
              "        height: 32px;\n",
              "        padding: 0 0 0 0;\n",
              "        width: 32px;\n",
              "      }\n",
              "\n",
              "      .colab-df-generate:hover {\n",
              "        background-color: #E2EBFA;\n",
              "        box-shadow: 0px 1px 2px rgba(60, 64, 67, 0.3), 0px 1px 3px 1px rgba(60, 64, 67, 0.15);\n",
              "        fill: #174EA6;\n",
              "      }\n",
              "\n",
              "      [theme=dark] .colab-df-generate {\n",
              "        background-color: #3B4455;\n",
              "        fill: #D2E3FC;\n",
              "      }\n",
              "\n",
              "      [theme=dark] .colab-df-generate:hover {\n",
              "        background-color: #434B5C;\n",
              "        box-shadow: 0px 1px 3px 1px rgba(0, 0, 0, 0.15);\n",
              "        filter: drop-shadow(0px 1px 2px rgba(0, 0, 0, 0.3));\n",
              "        fill: #FFFFFF;\n",
              "      }\n",
              "    </style>\n",
              "    <button class=\"colab-df-generate\" onclick=\"generateWithVariable('resumen_estadistico')\"\n",
              "            title=\"Generate code using this dataframe.\"\n",
              "            style=\"display:none;\">\n",
              "\n",
              "  <svg xmlns=\"http://www.w3.org/2000/svg\" height=\"24px\"viewBox=\"0 0 24 24\"\n",
              "       width=\"24px\">\n",
              "    <path d=\"M7,19H8.4L18.45,9,17,7.55,7,17.6ZM5,21V16.75L18.45,3.32a2,2,0,0,1,2.83,0l1.4,1.43a1.91,1.91,0,0,1,.58,1.4,1.91,1.91,0,0,1-.58,1.4L9.25,21ZM18.45,9,17,7.55Zm-12,3A5.31,5.31,0,0,0,4.9,8.1,5.31,5.31,0,0,0,1,6.5,5.31,5.31,0,0,0,4.9,4.9,5.31,5.31,0,0,0,6.5,1,5.31,5.31,0,0,0,8.1,4.9,5.31,5.31,0,0,0,12,6.5,5.46,5.46,0,0,0,6.5,12Z\"/>\n",
              "  </svg>\n",
              "    </button>\n",
              "    <script>\n",
              "      (() => {\n",
              "      const buttonEl =\n",
              "        document.querySelector('#id_588a3f52-0390-4bdb-b3be-fd47970a8335 button.colab-df-generate');\n",
              "      buttonEl.style.display =\n",
              "        google.colab.kernel.accessAllowed ? 'block' : 'none';\n",
              "\n",
              "      buttonEl.onclick = () => {\n",
              "        google.colab.notebook.generateWithVariable('resumen_estadistico');\n",
              "      }\n",
              "      })();\n",
              "    </script>\n",
              "  </div>\n",
              "\n",
              "    </div>\n",
              "  </div>\n"
            ],
            "text/plain": [
              "       Id_cliente  N°_Hijos  Cupo_TC Gasto_Mensual\n",
              "count      196921    196921   196921        196921\n",
              "mean       123508         2  1509930       2178804\n",
              "std         57900         2   812465       1550893\n",
              "min         23215         0  1000000        715304\n",
              "25%         73350         1  1000000        936583\n",
              "50%        123496         2  1000000       1957710\n",
              "75%        173642         3  2000000       2499900\n",
              "max        223788         5  5000000       7298120"
            ]
          },
          "execution_count": 79,
          "metadata": {},
          "output_type": "execute_result"
        }
      ],
      "source": [
        "# Generar el resumen estadístico y formatear los montos\n",
        "resumen_estadistico = df.describe()\n",
        "resumen_estadistico['Cupo_TC'] = resumen_estadistico['Cupo_TC'].apply('{:.0f}'.format)\n",
        "resumen_estadistico['Gasto_Mensual'] = resumen_estadistico['Gasto_Mensual'].apply('{:.0f}'.format)\n",
        "resumen_estadistico"
      ]
    },
    {
      "cell_type": "code",
      "execution_count": 80,
      "metadata": {
        "colab": {
          "base_uri": "https://localhost:8080/",
          "height": 206
        },
        "id": "BlERy9FqSPg_",
        "outputId": "e4e21f97-6d6c-42bc-e092-ee0318f6975c"
      },
      "outputs": [
        {
          "data": {
            "application/vnd.google.colaboratory.intrinsic+json": {
              "type": "dataframe",
              "variable_name": "df"
            },
            "text/html": [
              "\n",
              "  <div id=\"df-f911f5c6-fb7d-4b5e-a8c2-3ad84315394f\" class=\"colab-df-container\">\n",
              "    <div>\n",
              "<style scoped>\n",
              "    .dataframe tbody tr th:only-of-type {\n",
              "        vertical-align: middle;\n",
              "    }\n",
              "\n",
              "    .dataframe tbody tr th {\n",
              "        vertical-align: top;\n",
              "    }\n",
              "\n",
              "    .dataframe thead th {\n",
              "        text-align: right;\n",
              "    }\n",
              "</style>\n",
              "<table border=\"1\" class=\"dataframe\">\n",
              "  <thead>\n",
              "    <tr style=\"text-align: right;\">\n",
              "      <th></th>\n",
              "      <th>Id_cliente</th>\n",
              "      <th>Seguro</th>\n",
              "      <th>Genero</th>\n",
              "      <th>Ciudad</th>\n",
              "      <th>Region</th>\n",
              "      <th>Estado_Civil</th>\n",
              "      <th>Educacion</th>\n",
              "      <th>N°_Hijos</th>\n",
              "      <th>Cupo_TC</th>\n",
              "      <th>Gasto_Mensual</th>\n",
              "    </tr>\n",
              "  </thead>\n",
              "  <tbody>\n",
              "    <tr>\n",
              "      <th>5</th>\n",
              "      <td>23215</td>\n",
              "      <td>Accidente</td>\n",
              "      <td>Femenino</td>\n",
              "      <td>Buin</td>\n",
              "      <td>Metropolitana</td>\n",
              "      <td>Soltero(a)</td>\n",
              "      <td>Técnico</td>\n",
              "      <td>5</td>\n",
              "      <td>1000000</td>\n",
              "      <td>2499900</td>\n",
              "    </tr>\n",
              "    <tr>\n",
              "      <th>7</th>\n",
              "      <td>23217</td>\n",
              "      <td>Accidente</td>\n",
              "      <td>Femenino</td>\n",
              "      <td>Puerto Montt</td>\n",
              "      <td>Los Lagos</td>\n",
              "      <td>Soltero(a)</td>\n",
              "      <td>Técnico</td>\n",
              "      <td>1</td>\n",
              "      <td>1000000</td>\n",
              "      <td>904428</td>\n",
              "    </tr>\n",
              "    <tr>\n",
              "      <th>8</th>\n",
              "      <td>23218</td>\n",
              "      <td>Automotriz</td>\n",
              "      <td>Masculino</td>\n",
              "      <td>Valparaíso</td>\n",
              "      <td>Valparaíso</td>\n",
              "      <td>Soltero(a)</td>\n",
              "      <td>Técnico</td>\n",
              "      <td>0</td>\n",
              "      <td>1000000</td>\n",
              "      <td>2499900</td>\n",
              "    </tr>\n",
              "    <tr>\n",
              "      <th>9</th>\n",
              "      <td>23219</td>\n",
              "      <td>Accidente</td>\n",
              "      <td>Femenino</td>\n",
              "      <td>Concepción</td>\n",
              "      <td>Biobío</td>\n",
              "      <td>Casado(a)</td>\n",
              "      <td>Técnico</td>\n",
              "      <td>4</td>\n",
              "      <td>1000000</td>\n",
              "      <td>767575</td>\n",
              "    </tr>\n",
              "    <tr>\n",
              "      <th>11</th>\n",
              "      <td>23221</td>\n",
              "      <td>Accidente</td>\n",
              "      <td>Femenino</td>\n",
              "      <td>Concepción</td>\n",
              "      <td>Biobío</td>\n",
              "      <td>Soltero(a)</td>\n",
              "      <td>Técnico</td>\n",
              "      <td>4</td>\n",
              "      <td>1000000</td>\n",
              "      <td>995146</td>\n",
              "    </tr>\n",
              "  </tbody>\n",
              "</table>\n",
              "</div>\n",
              "    <div class=\"colab-df-buttons\">\n",
              "\n",
              "  <div class=\"colab-df-container\">\n",
              "    <button class=\"colab-df-convert\" onclick=\"convertToInteractive('df-f911f5c6-fb7d-4b5e-a8c2-3ad84315394f')\"\n",
              "            title=\"Convert this dataframe to an interactive table.\"\n",
              "            style=\"display:none;\">\n",
              "\n",
              "  <svg xmlns=\"http://www.w3.org/2000/svg\" height=\"24px\" viewBox=\"0 -960 960 960\">\n",
              "    <path d=\"M120-120v-720h720v720H120Zm60-500h600v-160H180v160Zm220 220h160v-160H400v160Zm0 220h160v-160H400v160ZM180-400h160v-160H180v160Zm440 0h160v-160H620v160ZM180-180h160v-160H180v160Zm440 0h160v-160H620v160Z\"/>\n",
              "  </svg>\n",
              "    </button>\n",
              "\n",
              "  <style>\n",
              "    .colab-df-container {\n",
              "      display:flex;\n",
              "      gap: 12px;\n",
              "    }\n",
              "\n",
              "    .colab-df-convert {\n",
              "      background-color: #E8F0FE;\n",
              "      border: none;\n",
              "      border-radius: 50%;\n",
              "      cursor: pointer;\n",
              "      display: none;\n",
              "      fill: #1967D2;\n",
              "      height: 32px;\n",
              "      padding: 0 0 0 0;\n",
              "      width: 32px;\n",
              "    }\n",
              "\n",
              "    .colab-df-convert:hover {\n",
              "      background-color: #E2EBFA;\n",
              "      box-shadow: 0px 1px 2px rgba(60, 64, 67, 0.3), 0px 1px 3px 1px rgba(60, 64, 67, 0.15);\n",
              "      fill: #174EA6;\n",
              "    }\n",
              "\n",
              "    .colab-df-buttons div {\n",
              "      margin-bottom: 4px;\n",
              "    }\n",
              "\n",
              "    [theme=dark] .colab-df-convert {\n",
              "      background-color: #3B4455;\n",
              "      fill: #D2E3FC;\n",
              "    }\n",
              "\n",
              "    [theme=dark] .colab-df-convert:hover {\n",
              "      background-color: #434B5C;\n",
              "      box-shadow: 0px 1px 3px 1px rgba(0, 0, 0, 0.15);\n",
              "      filter: drop-shadow(0px 1px 2px rgba(0, 0, 0, 0.3));\n",
              "      fill: #FFFFFF;\n",
              "    }\n",
              "  </style>\n",
              "\n",
              "    <script>\n",
              "      const buttonEl =\n",
              "        document.querySelector('#df-f911f5c6-fb7d-4b5e-a8c2-3ad84315394f button.colab-df-convert');\n",
              "      buttonEl.style.display =\n",
              "        google.colab.kernel.accessAllowed ? 'block' : 'none';\n",
              "\n",
              "      async function convertToInteractive(key) {\n",
              "        const element = document.querySelector('#df-f911f5c6-fb7d-4b5e-a8c2-3ad84315394f');\n",
              "        const dataTable =\n",
              "          await google.colab.kernel.invokeFunction('convertToInteractive',\n",
              "                                                    [key], {});\n",
              "        if (!dataTable) return;\n",
              "\n",
              "        const docLinkHtml = 'Like what you see? Visit the ' +\n",
              "          '<a target=\"_blank\" href=https://colab.research.google.com/notebooks/data_table.ipynb>data table notebook</a>'\n",
              "          + ' to learn more about interactive tables.';\n",
              "        element.innerHTML = '';\n",
              "        dataTable['output_type'] = 'display_data';\n",
              "        await google.colab.output.renderOutput(dataTable, element);\n",
              "        const docLink = document.createElement('div');\n",
              "        docLink.innerHTML = docLinkHtml;\n",
              "        element.appendChild(docLink);\n",
              "      }\n",
              "    </script>\n",
              "  </div>\n",
              "\n",
              "\n",
              "<div id=\"df-e23fc0f8-f4a0-45bc-b104-1e413ab1d238\">\n",
              "  <button class=\"colab-df-quickchart\" onclick=\"quickchart('df-e23fc0f8-f4a0-45bc-b104-1e413ab1d238')\"\n",
              "            title=\"Suggest charts\"\n",
              "            style=\"display:none;\">\n",
              "\n",
              "<svg xmlns=\"http://www.w3.org/2000/svg\" height=\"24px\"viewBox=\"0 0 24 24\"\n",
              "     width=\"24px\">\n",
              "    <g>\n",
              "        <path d=\"M19 3H5c-1.1 0-2 .9-2 2v14c0 1.1.9 2 2 2h14c1.1 0 2-.9 2-2V5c0-1.1-.9-2-2-2zM9 17H7v-7h2v7zm4 0h-2V7h2v10zm4 0h-2v-4h2v4z\"/>\n",
              "    </g>\n",
              "</svg>\n",
              "  </button>\n",
              "\n",
              "<style>\n",
              "  .colab-df-quickchart {\n",
              "      --bg-color: #E8F0FE;\n",
              "      --fill-color: #1967D2;\n",
              "      --hover-bg-color: #E2EBFA;\n",
              "      --hover-fill-color: #174EA6;\n",
              "      --disabled-fill-color: #AAA;\n",
              "      --disabled-bg-color: #DDD;\n",
              "  }\n",
              "\n",
              "  [theme=dark] .colab-df-quickchart {\n",
              "      --bg-color: #3B4455;\n",
              "      --fill-color: #D2E3FC;\n",
              "      --hover-bg-color: #434B5C;\n",
              "      --hover-fill-color: #FFFFFF;\n",
              "      --disabled-bg-color: #3B4455;\n",
              "      --disabled-fill-color: #666;\n",
              "  }\n",
              "\n",
              "  .colab-df-quickchart {\n",
              "    background-color: var(--bg-color);\n",
              "    border: none;\n",
              "    border-radius: 50%;\n",
              "    cursor: pointer;\n",
              "    display: none;\n",
              "    fill: var(--fill-color);\n",
              "    height: 32px;\n",
              "    padding: 0;\n",
              "    width: 32px;\n",
              "  }\n",
              "\n",
              "  .colab-df-quickchart:hover {\n",
              "    background-color: var(--hover-bg-color);\n",
              "    box-shadow: 0 1px 2px rgba(60, 64, 67, 0.3), 0 1px 3px 1px rgba(60, 64, 67, 0.15);\n",
              "    fill: var(--button-hover-fill-color);\n",
              "  }\n",
              "\n",
              "  .colab-df-quickchart-complete:disabled,\n",
              "  .colab-df-quickchart-complete:disabled:hover {\n",
              "    background-color: var(--disabled-bg-color);\n",
              "    fill: var(--disabled-fill-color);\n",
              "    box-shadow: none;\n",
              "  }\n",
              "\n",
              "  .colab-df-spinner {\n",
              "    border: 2px solid var(--fill-color);\n",
              "    border-color: transparent;\n",
              "    border-bottom-color: var(--fill-color);\n",
              "    animation:\n",
              "      spin 1s steps(1) infinite;\n",
              "  }\n",
              "\n",
              "  @keyframes spin {\n",
              "    0% {\n",
              "      border-color: transparent;\n",
              "      border-bottom-color: var(--fill-color);\n",
              "      border-left-color: var(--fill-color);\n",
              "    }\n",
              "    20% {\n",
              "      border-color: transparent;\n",
              "      border-left-color: var(--fill-color);\n",
              "      border-top-color: var(--fill-color);\n",
              "    }\n",
              "    30% {\n",
              "      border-color: transparent;\n",
              "      border-left-color: var(--fill-color);\n",
              "      border-top-color: var(--fill-color);\n",
              "      border-right-color: var(--fill-color);\n",
              "    }\n",
              "    40% {\n",
              "      border-color: transparent;\n",
              "      border-right-color: var(--fill-color);\n",
              "      border-top-color: var(--fill-color);\n",
              "    }\n",
              "    60% {\n",
              "      border-color: transparent;\n",
              "      border-right-color: var(--fill-color);\n",
              "    }\n",
              "    80% {\n",
              "      border-color: transparent;\n",
              "      border-right-color: var(--fill-color);\n",
              "      border-bottom-color: var(--fill-color);\n",
              "    }\n",
              "    90% {\n",
              "      border-color: transparent;\n",
              "      border-bottom-color: var(--fill-color);\n",
              "    }\n",
              "  }\n",
              "</style>\n",
              "\n",
              "  <script>\n",
              "    async function quickchart(key) {\n",
              "      const quickchartButtonEl =\n",
              "        document.querySelector('#' + key + ' button');\n",
              "      quickchartButtonEl.disabled = true;  // To prevent multiple clicks.\n",
              "      quickchartButtonEl.classList.add('colab-df-spinner');\n",
              "      try {\n",
              "        const charts = await google.colab.kernel.invokeFunction(\n",
              "            'suggestCharts', [key], {});\n",
              "      } catch (error) {\n",
              "        console.error('Error during call to suggestCharts:', error);\n",
              "      }\n",
              "      quickchartButtonEl.classList.remove('colab-df-spinner');\n",
              "      quickchartButtonEl.classList.add('colab-df-quickchart-complete');\n",
              "    }\n",
              "    (() => {\n",
              "      let quickchartButtonEl =\n",
              "        document.querySelector('#df-e23fc0f8-f4a0-45bc-b104-1e413ab1d238 button');\n",
              "      quickchartButtonEl.style.display =\n",
              "        google.colab.kernel.accessAllowed ? 'block' : 'none';\n",
              "    })();\n",
              "  </script>\n",
              "</div>\n",
              "\n",
              "    </div>\n",
              "  </div>\n"
            ],
            "text/plain": [
              "    Id_cliente      Seguro     Genero        Ciudad         Region  \\\n",
              "5        23215   Accidente   Femenino          Buin  Metropolitana   \n",
              "7        23217   Accidente   Femenino  Puerto Montt      Los Lagos   \n",
              "8        23218  Automotriz  Masculino    Valparaíso     Valparaíso   \n",
              "9        23219   Accidente   Femenino    Concepción         Biobío   \n",
              "11       23221   Accidente   Femenino    Concepción         Biobío   \n",
              "\n",
              "   Estado_Civil Educacion  N°_Hijos  Cupo_TC  Gasto_Mensual  \n",
              "5    Soltero(a)   Técnico         5  1000000        2499900  \n",
              "7    Soltero(a)   Técnico         1  1000000         904428  \n",
              "8    Soltero(a)   Técnico         0  1000000        2499900  \n",
              "9     Casado(a)   Técnico         4  1000000         767575  \n",
              "11   Soltero(a)   Técnico         4  1000000         995146  "
            ]
          },
          "execution_count": 80,
          "metadata": {},
          "output_type": "execute_result"
        }
      ],
      "source": [
        "df.head()"
      ]
    },
    {
      "cell_type": "markdown",
      "metadata": {
        "id": "kX6dfaYfFeS7"
      },
      "source": [
        "Agrupación de datos en tablas para resumir información del dataset:"
      ]
    },
    {
      "cell_type": "markdown",
      "metadata": {
        "id": "-VIUOyXDS0rW"
      },
      "source": [
        "#**5. ENCODING**"
      ]
    },
    {
      "cell_type": "code",
      "execution_count": 82,
      "metadata": {
        "colab": {
          "base_uri": "https://localhost:8080/"
        },
        "id": "adB9sZk6Tsc9",
        "outputId": "8aef3d14-c0b3-4a74-b15f-a0a0eed79d72"
      },
      "outputs": [
        {
          "name": "stdout",
          "output_type": "stream",
          "text": [
            "<class 'pandas.core.frame.DataFrame'>\n",
            "Index: 196921 entries, 5 to 200578\n",
            "Data columns (total 10 columns):\n",
            " #   Column         Non-Null Count   Dtype \n",
            "---  ------         --------------   ----- \n",
            " 0   Id_cliente     196921 non-null  int64 \n",
            " 1   Seguro         196921 non-null  object\n",
            " 2   Genero         196921 non-null  object\n",
            " 3   Ciudad         196921 non-null  object\n",
            " 4   Region         196921 non-null  object\n",
            " 5   Estado_Civil   196921 non-null  object\n",
            " 6   Educacion      196921 non-null  object\n",
            " 7   N°_Hijos       196921 non-null  int64 \n",
            " 8   Cupo_TC        196921 non-null  int64 \n",
            " 9   Gasto_Mensual  196921 non-null  int64 \n",
            "dtypes: int64(4), object(6)\n",
            "memory usage: 16.5+ MB\n"
          ]
        }
      ],
      "source": [
        "#Tipo de datos\n",
        "df.info()"
      ]
    },
    {
      "cell_type": "code",
      "execution_count": 83,
      "metadata": {
        "colab": {
          "base_uri": "https://localhost:8080/"
        },
        "id": "4iCfDhXRS1Uq",
        "outputId": "cc60dd60-d9d3-44fb-bb18-19e035c71b97"
      },
      "outputs": [
        {
          "name": "stdout",
          "output_type": "stream",
          "text": [
            "Columna: Seguro\n",
            "Valor Codificado - Clase\n",
            "0 - Accidente\n",
            "1 - Automotriz\n",
            "4 - Salud\n",
            "2 - Desgravamen\n",
            "6 - Vida\n",
            "3 - Robo\n",
            "5 - Viaje\n",
            "------------------------\n",
            "Columna: Genero\n",
            "Valor Codificado - Clase\n",
            "0 - Femenino\n",
            "1 - Masculino\n",
            "------------------------\n",
            "Columna: Ciudad\n",
            "Valor Codificado - Clase\n",
            "2 - Buin\n",
            "13 - Puerto Montt\n",
            "18 - Valparaíso\n",
            "5 - Concepción\n",
            "11 - Osorno\n",
            "4 - Chillán\n",
            "1 - Arica\n",
            "10 - Los Ángeles\n",
            "6 - Copiapó\n",
            "14 - Rancagua\n",
            "0 - Antofagasta\n",
            "8 - La Serena\n",
            "7 - Iquique\n",
            "9 - Linares\n",
            "15 - Santiago\n",
            "12 - Ovalle\n",
            "17 - Temuco\n",
            "16 - Talca\n",
            "19 - Villarrica\n",
            "3 - Calama\n",
            "------------------------\n",
            "Columna: Region\n",
            "Valor Codificado - Clase\n",
            "8 - Metropolitana\n",
            "6 - Los Lagos\n",
            "11 - Valparaíso\n",
            "4 - Biobío\n",
            "12 - Ñuble\n",
            "2 - Arica y Parinacota\n",
            "3 - Atacama\n",
            "9 - O'Higgins\n",
            "0 - Antofagasta\n",
            "5 - Coquimbo\n",
            "10 - Tarapacá\n",
            "7 - Maule\n",
            "1 - Araucanía\n",
            "------------------------\n",
            "Columna: Estado_Civil\n",
            "Valor Codificado - Clase\n",
            "1 - Soltero(a)\n",
            "0 - Casado(a)\n",
            "2 - Viudo(a)\n",
            "------------------------\n",
            "Columna: Educacion\n",
            "Valor Codificado - Clase\n",
            "3 - Técnico\n",
            "2 - Media\n",
            "4 - Universitario\n",
            "1 - Magister\n",
            "0 - Doctorado\n",
            "------------------------\n"
          ]
        }
      ],
      "source": [
        "from sklearn.preprocessing import LabelEncoder\n",
        "\n",
        "#Selecciona las columnas categóricas que se van a codificar\n",
        "categorical_cols = ['Seguro','Genero','Ciudad','Region','Estado_Civil','Educacion']\n",
        "\n",
        "#Itera sobre las columnas categóricas y aplica LabelEncoder\n",
        "label_encoders = {}\n",
        "for col in categorical_cols:\n",
        "    le = LabelEncoder()\n",
        "    df[col] = le.fit_transform(df[col])\n",
        "    label_encoders[col] = le\n",
        "\n",
        "#Muestra los valores originales y los valores codificados\n",
        "for col in categorical_cols:\n",
        "    original_values = df[col]\n",
        "    encoded_values = df[col]\n",
        "    le = label_encoders[col]\n",
        "\n",
        "    unique_values = original_values.unique()\n",
        "    unique_encoded_values = le.inverse_transform(unique_values)\n",
        "\n",
        "    mapping = dict(zip(unique_values, unique_encoded_values))\n",
        "    print(f\"Columna: {col}\")\n",
        "    print(\"Valor Codificado - Clase\")\n",
        "    for value, encoded_value in mapping.items():\n",
        "        print(f\"{value} - {encoded_value}\")\n",
        "    print(\"------------------------\")"
      ]
    },
    {
      "cell_type": "code",
      "execution_count": 84,
      "metadata": {
        "colab": {
          "base_uri": "https://localhost:8080/",
          "height": 423
        },
        "id": "H52JgZFlU4QX",
        "outputId": "dc85e086-3e88-45a8-c6ee-8f35ffb552cd"
      },
      "outputs": [
        {
          "data": {
            "application/vnd.google.colaboratory.intrinsic+json": {
              "type": "dataframe",
              "variable_name": "df"
            },
            "text/html": [
              "\n",
              "  <div id=\"df-834a338d-d23c-4c4e-98d5-d25555fb9e0a\" class=\"colab-df-container\">\n",
              "    <div>\n",
              "<style scoped>\n",
              "    .dataframe tbody tr th:only-of-type {\n",
              "        vertical-align: middle;\n",
              "    }\n",
              "\n",
              "    .dataframe tbody tr th {\n",
              "        vertical-align: top;\n",
              "    }\n",
              "\n",
              "    .dataframe thead th {\n",
              "        text-align: right;\n",
              "    }\n",
              "</style>\n",
              "<table border=\"1\" class=\"dataframe\">\n",
              "  <thead>\n",
              "    <tr style=\"text-align: right;\">\n",
              "      <th></th>\n",
              "      <th>Id_cliente</th>\n",
              "      <th>Seguro</th>\n",
              "      <th>Genero</th>\n",
              "      <th>Ciudad</th>\n",
              "      <th>Region</th>\n",
              "      <th>Estado_Civil</th>\n",
              "      <th>Educacion</th>\n",
              "      <th>N°_Hijos</th>\n",
              "      <th>Cupo_TC</th>\n",
              "      <th>Gasto_Mensual</th>\n",
              "    </tr>\n",
              "  </thead>\n",
              "  <tbody>\n",
              "    <tr>\n",
              "      <th>5</th>\n",
              "      <td>23215</td>\n",
              "      <td>0</td>\n",
              "      <td>0</td>\n",
              "      <td>2</td>\n",
              "      <td>8</td>\n",
              "      <td>1</td>\n",
              "      <td>3</td>\n",
              "      <td>5</td>\n",
              "      <td>1000000</td>\n",
              "      <td>2499900</td>\n",
              "    </tr>\n",
              "    <tr>\n",
              "      <th>7</th>\n",
              "      <td>23217</td>\n",
              "      <td>0</td>\n",
              "      <td>0</td>\n",
              "      <td>13</td>\n",
              "      <td>6</td>\n",
              "      <td>1</td>\n",
              "      <td>3</td>\n",
              "      <td>1</td>\n",
              "      <td>1000000</td>\n",
              "      <td>904428</td>\n",
              "    </tr>\n",
              "    <tr>\n",
              "      <th>8</th>\n",
              "      <td>23218</td>\n",
              "      <td>1</td>\n",
              "      <td>1</td>\n",
              "      <td>18</td>\n",
              "      <td>11</td>\n",
              "      <td>1</td>\n",
              "      <td>3</td>\n",
              "      <td>0</td>\n",
              "      <td>1000000</td>\n",
              "      <td>2499900</td>\n",
              "    </tr>\n",
              "    <tr>\n",
              "      <th>9</th>\n",
              "      <td>23219</td>\n",
              "      <td>0</td>\n",
              "      <td>0</td>\n",
              "      <td>5</td>\n",
              "      <td>4</td>\n",
              "      <td>0</td>\n",
              "      <td>3</td>\n",
              "      <td>4</td>\n",
              "      <td>1000000</td>\n",
              "      <td>767575</td>\n",
              "    </tr>\n",
              "    <tr>\n",
              "      <th>11</th>\n",
              "      <td>23221</td>\n",
              "      <td>0</td>\n",
              "      <td>0</td>\n",
              "      <td>5</td>\n",
              "      <td>4</td>\n",
              "      <td>1</td>\n",
              "      <td>3</td>\n",
              "      <td>4</td>\n",
              "      <td>1000000</td>\n",
              "      <td>995146</td>\n",
              "    </tr>\n",
              "    <tr>\n",
              "      <th>...</th>\n",
              "      <td>...</td>\n",
              "      <td>...</td>\n",
              "      <td>...</td>\n",
              "      <td>...</td>\n",
              "      <td>...</td>\n",
              "      <td>...</td>\n",
              "      <td>...</td>\n",
              "      <td>...</td>\n",
              "      <td>...</td>\n",
              "      <td>...</td>\n",
              "    </tr>\n",
              "    <tr>\n",
              "      <th>200572</th>\n",
              "      <td>223782</td>\n",
              "      <td>0</td>\n",
              "      <td>0</td>\n",
              "      <td>14</td>\n",
              "      <td>9</td>\n",
              "      <td>1</td>\n",
              "      <td>4</td>\n",
              "      <td>0</td>\n",
              "      <td>2000000</td>\n",
              "      <td>2292900</td>\n",
              "    </tr>\n",
              "    <tr>\n",
              "      <th>200574</th>\n",
              "      <td>223784</td>\n",
              "      <td>1</td>\n",
              "      <td>1</td>\n",
              "      <td>18</td>\n",
              "      <td>11</td>\n",
              "      <td>1</td>\n",
              "      <td>4</td>\n",
              "      <td>1</td>\n",
              "      <td>2000000</td>\n",
              "      <td>1802600</td>\n",
              "    </tr>\n",
              "    <tr>\n",
              "      <th>200575</th>\n",
              "      <td>223785</td>\n",
              "      <td>0</td>\n",
              "      <td>0</td>\n",
              "      <td>18</td>\n",
              "      <td>11</td>\n",
              "      <td>2</td>\n",
              "      <td>4</td>\n",
              "      <td>2</td>\n",
              "      <td>2000000</td>\n",
              "      <td>2023700</td>\n",
              "    </tr>\n",
              "    <tr>\n",
              "      <th>200576</th>\n",
              "      <td>223786</td>\n",
              "      <td>0</td>\n",
              "      <td>0</td>\n",
              "      <td>18</td>\n",
              "      <td>11</td>\n",
              "      <td>2</td>\n",
              "      <td>4</td>\n",
              "      <td>1</td>\n",
              "      <td>2000000</td>\n",
              "      <td>2731300</td>\n",
              "    </tr>\n",
              "    <tr>\n",
              "      <th>200578</th>\n",
              "      <td>223788</td>\n",
              "      <td>1</td>\n",
              "      <td>1</td>\n",
              "      <td>18</td>\n",
              "      <td>11</td>\n",
              "      <td>1</td>\n",
              "      <td>4</td>\n",
              "      <td>0</td>\n",
              "      <td>2000000</td>\n",
              "      <td>2916700</td>\n",
              "    </tr>\n",
              "  </tbody>\n",
              "</table>\n",
              "<p>196921 rows × 10 columns</p>\n",
              "</div>\n",
              "    <div class=\"colab-df-buttons\">\n",
              "\n",
              "  <div class=\"colab-df-container\">\n",
              "    <button class=\"colab-df-convert\" onclick=\"convertToInteractive('df-834a338d-d23c-4c4e-98d5-d25555fb9e0a')\"\n",
              "            title=\"Convert this dataframe to an interactive table.\"\n",
              "            style=\"display:none;\">\n",
              "\n",
              "  <svg xmlns=\"http://www.w3.org/2000/svg\" height=\"24px\" viewBox=\"0 -960 960 960\">\n",
              "    <path d=\"M120-120v-720h720v720H120Zm60-500h600v-160H180v160Zm220 220h160v-160H400v160Zm0 220h160v-160H400v160ZM180-400h160v-160H180v160Zm440 0h160v-160H620v160ZM180-180h160v-160H180v160Zm440 0h160v-160H620v160Z\"/>\n",
              "  </svg>\n",
              "    </button>\n",
              "\n",
              "  <style>\n",
              "    .colab-df-container {\n",
              "      display:flex;\n",
              "      gap: 12px;\n",
              "    }\n",
              "\n",
              "    .colab-df-convert {\n",
              "      background-color: #E8F0FE;\n",
              "      border: none;\n",
              "      border-radius: 50%;\n",
              "      cursor: pointer;\n",
              "      display: none;\n",
              "      fill: #1967D2;\n",
              "      height: 32px;\n",
              "      padding: 0 0 0 0;\n",
              "      width: 32px;\n",
              "    }\n",
              "\n",
              "    .colab-df-convert:hover {\n",
              "      background-color: #E2EBFA;\n",
              "      box-shadow: 0px 1px 2px rgba(60, 64, 67, 0.3), 0px 1px 3px 1px rgba(60, 64, 67, 0.15);\n",
              "      fill: #174EA6;\n",
              "    }\n",
              "\n",
              "    .colab-df-buttons div {\n",
              "      margin-bottom: 4px;\n",
              "    }\n",
              "\n",
              "    [theme=dark] .colab-df-convert {\n",
              "      background-color: #3B4455;\n",
              "      fill: #D2E3FC;\n",
              "    }\n",
              "\n",
              "    [theme=dark] .colab-df-convert:hover {\n",
              "      background-color: #434B5C;\n",
              "      box-shadow: 0px 1px 3px 1px rgba(0, 0, 0, 0.15);\n",
              "      filter: drop-shadow(0px 1px 2px rgba(0, 0, 0, 0.3));\n",
              "      fill: #FFFFFF;\n",
              "    }\n",
              "  </style>\n",
              "\n",
              "    <script>\n",
              "      const buttonEl =\n",
              "        document.querySelector('#df-834a338d-d23c-4c4e-98d5-d25555fb9e0a button.colab-df-convert');\n",
              "      buttonEl.style.display =\n",
              "        google.colab.kernel.accessAllowed ? 'block' : 'none';\n",
              "\n",
              "      async function convertToInteractive(key) {\n",
              "        const element = document.querySelector('#df-834a338d-d23c-4c4e-98d5-d25555fb9e0a');\n",
              "        const dataTable =\n",
              "          await google.colab.kernel.invokeFunction('convertToInteractive',\n",
              "                                                    [key], {});\n",
              "        if (!dataTable) return;\n",
              "\n",
              "        const docLinkHtml = 'Like what you see? Visit the ' +\n",
              "          '<a target=\"_blank\" href=https://colab.research.google.com/notebooks/data_table.ipynb>data table notebook</a>'\n",
              "          + ' to learn more about interactive tables.';\n",
              "        element.innerHTML = '';\n",
              "        dataTable['output_type'] = 'display_data';\n",
              "        await google.colab.output.renderOutput(dataTable, element);\n",
              "        const docLink = document.createElement('div');\n",
              "        docLink.innerHTML = docLinkHtml;\n",
              "        element.appendChild(docLink);\n",
              "      }\n",
              "    </script>\n",
              "  </div>\n",
              "\n",
              "\n",
              "<div id=\"df-4a14c374-a851-47d5-9cbf-a3b19247038d\">\n",
              "  <button class=\"colab-df-quickchart\" onclick=\"quickchart('df-4a14c374-a851-47d5-9cbf-a3b19247038d')\"\n",
              "            title=\"Suggest charts\"\n",
              "            style=\"display:none;\">\n",
              "\n",
              "<svg xmlns=\"http://www.w3.org/2000/svg\" height=\"24px\"viewBox=\"0 0 24 24\"\n",
              "     width=\"24px\">\n",
              "    <g>\n",
              "        <path d=\"M19 3H5c-1.1 0-2 .9-2 2v14c0 1.1.9 2 2 2h14c1.1 0 2-.9 2-2V5c0-1.1-.9-2-2-2zM9 17H7v-7h2v7zm4 0h-2V7h2v10zm4 0h-2v-4h2v4z\"/>\n",
              "    </g>\n",
              "</svg>\n",
              "  </button>\n",
              "\n",
              "<style>\n",
              "  .colab-df-quickchart {\n",
              "      --bg-color: #E8F0FE;\n",
              "      --fill-color: #1967D2;\n",
              "      --hover-bg-color: #E2EBFA;\n",
              "      --hover-fill-color: #174EA6;\n",
              "      --disabled-fill-color: #AAA;\n",
              "      --disabled-bg-color: #DDD;\n",
              "  }\n",
              "\n",
              "  [theme=dark] .colab-df-quickchart {\n",
              "      --bg-color: #3B4455;\n",
              "      --fill-color: #D2E3FC;\n",
              "      --hover-bg-color: #434B5C;\n",
              "      --hover-fill-color: #FFFFFF;\n",
              "      --disabled-bg-color: #3B4455;\n",
              "      --disabled-fill-color: #666;\n",
              "  }\n",
              "\n",
              "  .colab-df-quickchart {\n",
              "    background-color: var(--bg-color);\n",
              "    border: none;\n",
              "    border-radius: 50%;\n",
              "    cursor: pointer;\n",
              "    display: none;\n",
              "    fill: var(--fill-color);\n",
              "    height: 32px;\n",
              "    padding: 0;\n",
              "    width: 32px;\n",
              "  }\n",
              "\n",
              "  .colab-df-quickchart:hover {\n",
              "    background-color: var(--hover-bg-color);\n",
              "    box-shadow: 0 1px 2px rgba(60, 64, 67, 0.3), 0 1px 3px 1px rgba(60, 64, 67, 0.15);\n",
              "    fill: var(--button-hover-fill-color);\n",
              "  }\n",
              "\n",
              "  .colab-df-quickchart-complete:disabled,\n",
              "  .colab-df-quickchart-complete:disabled:hover {\n",
              "    background-color: var(--disabled-bg-color);\n",
              "    fill: var(--disabled-fill-color);\n",
              "    box-shadow: none;\n",
              "  }\n",
              "\n",
              "  .colab-df-spinner {\n",
              "    border: 2px solid var(--fill-color);\n",
              "    border-color: transparent;\n",
              "    border-bottom-color: var(--fill-color);\n",
              "    animation:\n",
              "      spin 1s steps(1) infinite;\n",
              "  }\n",
              "\n",
              "  @keyframes spin {\n",
              "    0% {\n",
              "      border-color: transparent;\n",
              "      border-bottom-color: var(--fill-color);\n",
              "      border-left-color: var(--fill-color);\n",
              "    }\n",
              "    20% {\n",
              "      border-color: transparent;\n",
              "      border-left-color: var(--fill-color);\n",
              "      border-top-color: var(--fill-color);\n",
              "    }\n",
              "    30% {\n",
              "      border-color: transparent;\n",
              "      border-left-color: var(--fill-color);\n",
              "      border-top-color: var(--fill-color);\n",
              "      border-right-color: var(--fill-color);\n",
              "    }\n",
              "    40% {\n",
              "      border-color: transparent;\n",
              "      border-right-color: var(--fill-color);\n",
              "      border-top-color: var(--fill-color);\n",
              "    }\n",
              "    60% {\n",
              "      border-color: transparent;\n",
              "      border-right-color: var(--fill-color);\n",
              "    }\n",
              "    80% {\n",
              "      border-color: transparent;\n",
              "      border-right-color: var(--fill-color);\n",
              "      border-bottom-color: var(--fill-color);\n",
              "    }\n",
              "    90% {\n",
              "      border-color: transparent;\n",
              "      border-bottom-color: var(--fill-color);\n",
              "    }\n",
              "  }\n",
              "</style>\n",
              "\n",
              "  <script>\n",
              "    async function quickchart(key) {\n",
              "      const quickchartButtonEl =\n",
              "        document.querySelector('#' + key + ' button');\n",
              "      quickchartButtonEl.disabled = true;  // To prevent multiple clicks.\n",
              "      quickchartButtonEl.classList.add('colab-df-spinner');\n",
              "      try {\n",
              "        const charts = await google.colab.kernel.invokeFunction(\n",
              "            'suggestCharts', [key], {});\n",
              "      } catch (error) {\n",
              "        console.error('Error during call to suggestCharts:', error);\n",
              "      }\n",
              "      quickchartButtonEl.classList.remove('colab-df-spinner');\n",
              "      quickchartButtonEl.classList.add('colab-df-quickchart-complete');\n",
              "    }\n",
              "    (() => {\n",
              "      let quickchartButtonEl =\n",
              "        document.querySelector('#df-4a14c374-a851-47d5-9cbf-a3b19247038d button');\n",
              "      quickchartButtonEl.style.display =\n",
              "        google.colab.kernel.accessAllowed ? 'block' : 'none';\n",
              "    })();\n",
              "  </script>\n",
              "</div>\n",
              "\n",
              "  <div id=\"id_957bd0de-a463-47f9-a629-cf74a16be864\">\n",
              "    <style>\n",
              "      .colab-df-generate {\n",
              "        background-color: #E8F0FE;\n",
              "        border: none;\n",
              "        border-radius: 50%;\n",
              "        cursor: pointer;\n",
              "        display: none;\n",
              "        fill: #1967D2;\n",
              "        height: 32px;\n",
              "        padding: 0 0 0 0;\n",
              "        width: 32px;\n",
              "      }\n",
              "\n",
              "      .colab-df-generate:hover {\n",
              "        background-color: #E2EBFA;\n",
              "        box-shadow: 0px 1px 2px rgba(60, 64, 67, 0.3), 0px 1px 3px 1px rgba(60, 64, 67, 0.15);\n",
              "        fill: #174EA6;\n",
              "      }\n",
              "\n",
              "      [theme=dark] .colab-df-generate {\n",
              "        background-color: #3B4455;\n",
              "        fill: #D2E3FC;\n",
              "      }\n",
              "\n",
              "      [theme=dark] .colab-df-generate:hover {\n",
              "        background-color: #434B5C;\n",
              "        box-shadow: 0px 1px 3px 1px rgba(0, 0, 0, 0.15);\n",
              "        filter: drop-shadow(0px 1px 2px rgba(0, 0, 0, 0.3));\n",
              "        fill: #FFFFFF;\n",
              "      }\n",
              "    </style>\n",
              "    <button class=\"colab-df-generate\" onclick=\"generateWithVariable('df')\"\n",
              "            title=\"Generate code using this dataframe.\"\n",
              "            style=\"display:none;\">\n",
              "\n",
              "  <svg xmlns=\"http://www.w3.org/2000/svg\" height=\"24px\"viewBox=\"0 0 24 24\"\n",
              "       width=\"24px\">\n",
              "    <path d=\"M7,19H8.4L18.45,9,17,7.55,7,17.6ZM5,21V16.75L18.45,3.32a2,2,0,0,1,2.83,0l1.4,1.43a1.91,1.91,0,0,1,.58,1.4,1.91,1.91,0,0,1-.58,1.4L9.25,21ZM18.45,9,17,7.55Zm-12,3A5.31,5.31,0,0,0,4.9,8.1,5.31,5.31,0,0,0,1,6.5,5.31,5.31,0,0,0,4.9,4.9,5.31,5.31,0,0,0,6.5,1,5.31,5.31,0,0,0,8.1,4.9,5.31,5.31,0,0,0,12,6.5,5.46,5.46,0,0,0,6.5,12Z\"/>\n",
              "  </svg>\n",
              "    </button>\n",
              "    <script>\n",
              "      (() => {\n",
              "      const buttonEl =\n",
              "        document.querySelector('#id_957bd0de-a463-47f9-a629-cf74a16be864 button.colab-df-generate');\n",
              "      buttonEl.style.display =\n",
              "        google.colab.kernel.accessAllowed ? 'block' : 'none';\n",
              "\n",
              "      buttonEl.onclick = () => {\n",
              "        google.colab.notebook.generateWithVariable('df');\n",
              "      }\n",
              "      })();\n",
              "    </script>\n",
              "  </div>\n",
              "\n",
              "    </div>\n",
              "  </div>\n"
            ],
            "text/plain": [
              "        Id_cliente  Seguro  Genero  Ciudad  Region  Estado_Civil  Educacion  \\\n",
              "5            23215       0       0       2       8             1          3   \n",
              "7            23217       0       0      13       6             1          3   \n",
              "8            23218       1       1      18      11             1          3   \n",
              "9            23219       0       0       5       4             0          3   \n",
              "11           23221       0       0       5       4             1          3   \n",
              "...            ...     ...     ...     ...     ...           ...        ...   \n",
              "200572      223782       0       0      14       9             1          4   \n",
              "200574      223784       1       1      18      11             1          4   \n",
              "200575      223785       0       0      18      11             2          4   \n",
              "200576      223786       0       0      18      11             2          4   \n",
              "200578      223788       1       1      18      11             1          4   \n",
              "\n",
              "        N°_Hijos  Cupo_TC  Gasto_Mensual  \n",
              "5              5  1000000        2499900  \n",
              "7              1  1000000         904428  \n",
              "8              0  1000000        2499900  \n",
              "9              4  1000000         767575  \n",
              "11             4  1000000         995146  \n",
              "...          ...      ...            ...  \n",
              "200572         0  2000000        2292900  \n",
              "200574         1  2000000        1802600  \n",
              "200575         2  2000000        2023700  \n",
              "200576         1  2000000        2731300  \n",
              "200578         0  2000000        2916700  \n",
              "\n",
              "[196921 rows x 10 columns]"
            ]
          },
          "execution_count": 84,
          "metadata": {},
          "output_type": "execute_result"
        }
      ],
      "source": [
        "df"
      ]
    },
    {
      "cell_type": "markdown",
      "metadata": {
        "id": "Aoh3To6sgZo7"
      },
      "source": [
        "---\n",
        "---\n",
        "# **DOCUMENTACIÓN**"
      ]
    },
    {
      "cell_type": "markdown",
      "metadata": {
        "id": "A9we87QGVOdq"
      },
      "source": [
        "NumPy. (n.d.). NumPy user guide. Recuperado de https://numpy.org/devdocs/user/index.html#user\n",
        "\n",
        "pandas. (n.d.). pandas user guide. Recuperado de https://pandas.pydata.org/docs/user_guide/index.html\n",
        "\n",
        "SciPy. (n.d.). SciPy documentation. Recuperado de https://docs.scipy.org/doc/scipy/\n",
        "\n",
        "Matplotlib. (n.d.). Matplotlib user guide. Recuperado de https://matplotlib.org/stable/users/index.html\n",
        "\n",
        "Waskom, M. L. (n.d.). Seaborn tutorial. Recuperado de https://seaborn.pydata.org/tutorial.html"
      ]
    }
  ],
  "metadata": {
    "colab": {
      "provenance": [],
      "toc_visible": true
    },
    "kernelspec": {
      "display_name": "Python 3 (ipykernel)",
      "language": "python",
      "name": "python3"
    },
    "language_info": {
      "codemirror_mode": {
        "name": "ipython",
        "version": 3
      },
      "file_extension": ".py",
      "mimetype": "text/x-python",
      "name": "python",
      "nbconvert_exporter": "python",
      "pygments_lexer": "ipython3",
      "version": "3.12.4"
    }
  },
  "nbformat": 4,
  "nbformat_minor": 0
}
